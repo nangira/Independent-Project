{
  "nbformat": 4,
  "nbformat_minor": 0,
  "metadata": {
    "colab": {
      "provenance": [],
      "collapsed_sections": [],
      "authorship_tag": "ABX9TyOlMFure7wG7Lsu2BJtTqxP",
      "include_colab_link": true
    },
    "kernelspec": {
      "name": "python3",
      "display_name": "Python 3"
    },
    "language_info": {
      "name": "python"
    }
  },
  "cells": [
    {
      "cell_type": "markdown",
      "metadata": {
        "id": "view-in-github",
        "colab_type": "text"
      },
      "source": [
        "<a href=\"https://colab.research.google.com/github/nangira/Independent-Project/blob/main/Hypothesis_testing_Independent_Project.ipynb\" target=\"_parent\"><img src=\"https://colab.research.google.com/assets/colab-badge.svg\" alt=\"Open In Colab\"/></a>"
      ]
    },
    {
      "cell_type": "markdown",
      "source": [
        "# **Hypothesis Testing**"
      ],
      "metadata": {
        "id": "QBmuOVQMPmFs"
      }
    },
    {
      "cell_type": "markdown",
      "source": [
        "## **Introduction**\n",
        "\n",
        "As a Data Scientist for the Autolib electric car-sharing service company, we are required to investigate a claim about the blue cars from the provided Autolib dataset.\n",
        "\n",
        "In an effort to do this, we need to identify some areas and periods of interest via sampling stating the reason to the choice of method, then perform hypothesis testing with regards to the claim that we will have made. \n",
        "\n",
        "We will perform the following analysis with Python; \n",
        "\n",
        "1.   Find and deal with outliers, anomalies, and missing data within the dataset.\n",
        "2.   Plot appropriate univariate and bivariate summaries recording our observations.\n",
        "3.   Implement the solution by performing hypothesis testing.\n",
        "\n",
        "This will need to be documented in the report."
      ],
      "metadata": {
        "id": "4p8iDXBlPtNK"
      }
    },
    {
      "cell_type": "code",
      "execution_count": 1,
      "metadata": {
        "id": "8PPUzvifTfU7"
      },
      "outputs": [],
      "source": [
        "# Loading the required dataset\n",
        "\n",
        "import numpy as np\n",
        "import pandas as pd\n",
        "from scipy import stats\n",
        "from statsmodels.stats import weightstats as stests\n",
        "import matplotlib.pyplot as plt\n",
        "import seaborn as sns"
      ]
    },
    {
      "cell_type": "code",
      "source": [
        "# Loading dataset\n",
        "\n",
        "data = pd.read_csv('autolib_daily_events_postal_code.csv')\n",
        "\n",
        "# Viewing first five entries\n",
        "data.head()\n",
        "\n",
        "# Viewing last five data entries\n",
        "data.tail()\n",
        "\n",
        "data['Postal code'].unique()"
      ],
      "metadata": {
        "colab": {
          "base_uri": "https://localhost:8080/"
        },
        "id": "oO2E2j-hUEQo",
        "outputId": "c2da9ebf-30c1-4487-a504-758553ceb617"
      },
      "execution_count": 2,
      "outputs": [
        {
          "output_type": "execute_result",
          "data": {
            "text/plain": [
              "array([75001, 75002, 75003, 75004, 75005, 75006, 75007, 75008, 75009,\n",
              "       75010, 75011, 75012, 75013, 75014, 75015, 75016, 75017, 75018,\n",
              "       75019, 75020, 75112, 75116, 78000, 78140, 78150, 91330, 91370,\n",
              "       91400, 92000, 92100, 92110, 92120, 92130, 92140, 92150, 92160,\n",
              "       92170, 92190, 92200, 92210, 92220, 92230, 92240, 92250, 92260,\n",
              "       92270, 92290, 92300, 92310, 92320, 92330, 92340, 92350, 92360,\n",
              "       92370, 92380, 92390, 92400, 92410, 92420, 92500, 92600, 92700,\n",
              "       92800, 93100, 93110, 93130, 93150, 93170, 93200, 93230, 93260,\n",
              "       93300, 93310, 93350, 93360, 93370, 93390, 93400, 93440, 93500,\n",
              "       93600, 93700, 93800, 94000, 94100, 94110, 94120, 94130, 94140,\n",
              "       94150, 94160, 94220, 94230, 94300, 94340, 94410, 94450, 94500,\n",
              "       94700, 94800, 95100, 95870, 95880])"
            ]
          },
          "metadata": {},
          "execution_count": 2
        }
      ]
    },
    {
      "cell_type": "code",
      "source": [
        "# Familiarizing ourselves with the data\n",
        "# Checking the data types, shape and if there's missing values\n",
        "data.info()\n",
        "\n",
        "# The variables are a mix of numerical and categorical variables\n",
        "# There are no missing values in our dataset\n",
        "# There are 16,085 entries and 13 columns in our dataset\n",
        "\n",
        "# convert the 'date' column to datetime format\n",
        "data['date']= pd.to_datetime(data['date'])\n",
        "\n",
        "# Confirming the new data type for dates is saved\n",
        "data['date'].dtype"
      ],
      "metadata": {
        "id": "_JepTCR_UewM"
      },
      "execution_count": null,
      "outputs": []
    },
    {
      "cell_type": "markdown",
      "source": [
        "## **Data Validation**\n",
        "\n",
        "Below is a description of the variables in our dataset\n",
        "**Postal code** - postal code of the area (in Paris)\n",
        "\n",
        "**date** - date of the row aggregation\n",
        "\n",
        "**n_daily_data_points** - number of daily data points that were available for aggregation, that day\n",
        "\n",
        "**dayOfWeek** - identifier of weekday (0: Monday -> 6: Sunday)\n",
        "\n",
        "**day_type** - weekday or weekend\n",
        "\n",
        "**BlueCars_taken_sum** - Number of bluecars taken that date in that area\n",
        "\n",
        "**BlueCars_returned_sum** - Number of bluecars returned that date in that area\n",
        "\n",
        "**Utilib_taken_sum** - Number of Utilib taken that date in that area\n",
        "\n",
        "**Utilib_returned_sum** - Number of Utilib returned that date in that area\n",
        "\n",
        "**Utilib_14_taken_sum** - Number of Utilib 1.4 taken that date in that area\n",
        "\n",
        "**Utilib_14_returned_sum** - Number of Utilib 1.4 returned that date in that area\n",
        "\n",
        "**Slots_freed_sum** - Number of recharging slots released that date in that area\n",
        "\n",
        "**Slots_taken_sum** - Number of rechargign slots taken that date in that area\n",
        "\n"
      ],
      "metadata": {
        "id": "GI64uvvLVZyD"
      }
    },
    {
      "cell_type": "markdown",
      "source": [
        "### **Univariate Analysis**"
      ],
      "metadata": {
        "id": "eETGcYoQn4PR"
      }
    },
    {
      "cell_type": "code",
      "source": [
        "\n",
        "# Observing our numerical variables\n",
        "\n",
        "# Creating a list of all the numeric variables not including Postal code as it's a unique identifier\n",
        "numeric_variables = data[['BlueCars_taken_sum','BlueCars_returned_sum', 'Utilib_taken_sum', 'Utilib_returned_sum',\n",
        "                          'Utilib_14_taken_sum', 'Utilib_14_returned_sum', 'Slots_freed_sum', 'Slots_taken_sum']]\n",
        "\n",
        "# The output shows the range for the numerical variables in the order they're listed in numeric_variables\n",
        "range = numeric_variables.max() - numeric_variables.min()\n",
        "print(range)\n",
        "\n",
        "# Finding the mode of the numeric variables\n",
        "print(numeric_variables.mode())\n",
        "\n",
        "# Finding the mean, median, kurtosis, standard deviation, variance, maximum and minimum values of the numeric variables\n",
        "numeric_variables.apply([\"count\",\"mean\",\"std\",\"var\" ,\"median\", \"max\",\"min\", \"skew\", \"kurt\"])\n"
      ],
      "metadata": {
        "colab": {
          "base_uri": "https://localhost:8080/",
          "height": 706
        },
        "id": "5oRt6lIlVBH2",
        "outputId": "be7b2b2f-0853-4aab-9a4c-9f61a3038a57"
      },
      "execution_count": 4,
      "outputs": [
        {
          "output_type": "stream",
          "name": "stdout",
          "text": [
            "BlueCars_taken_sum        1352\n",
            "BlueCars_returned_sum     1332\n",
            "Utilib_taken_sum            54\n",
            "Utilib_returned_sum         58\n",
            "Utilib_14_taken_sum        100\n",
            "Utilib_14_returned_sum     101\n",
            "Slots_freed_sum            360\n",
            "Slots_taken_sum            359\n",
            "dtype: int64\n",
            "   BlueCars_taken_sum  BlueCars_returned_sum  Utilib_taken_sum  \\\n",
            "0                  12                     13                 0   \n",
            "\n",
            "   Utilib_returned_sum  Utilib_14_taken_sum  Utilib_14_returned_sum  \\\n",
            "0                    0                    0                       0   \n",
            "\n",
            "   Slots_freed_sum  Slots_taken_sum  \n",
            "0                0                0  \n"
          ]
        },
        {
          "output_type": "execute_result",
          "data": {
            "text/plain": [
              "        BlueCars_taken_sum  BlueCars_returned_sum  Utilib_taken_sum  \\\n",
              "count         16085.000000           16085.000000      16085.000000   \n",
              "mean            125.926951             125.912714          3.698290   \n",
              "std             185.426579             185.501535          5.815058   \n",
              "var           34383.016113           34410.819414         33.814897   \n",
              "median           46.000000              46.000000          1.000000   \n",
              "max            1352.000000            1332.000000         54.000000   \n",
              "min               0.000000               0.000000          0.000000   \n",
              "skew              2.406355               2.412085          2.556872   \n",
              "kurt              6.172692               6.186288          7.702362   \n",
              "\n",
              "        Utilib_returned_sum  Utilib_14_taken_sum  Utilib_14_returned_sum  \\\n",
              "count          16085.000000         16085.000000            16085.000000   \n",
              "mean               3.699099             8.600560                8.599192   \n",
              "std                5.824634            12.870098               12.868993   \n",
              "var               33.926364           165.639430              165.610979   \n",
              "median             1.000000             3.000000                3.000000   \n",
              "max               58.000000           100.000000              101.000000   \n",
              "min                0.000000             0.000000                0.000000   \n",
              "skew               2.578665             2.510924                2.511488   \n",
              "kurt               7.936357             7.186815                7.185463   \n",
              "\n",
              "        Slots_freed_sum  Slots_taken_sum  \n",
              "count      16085.000000     16085.000000  \n",
              "mean          22.629033        22.629282  \n",
              "std           52.120263        52.146030  \n",
              "var         2716.521850      2719.208431  \n",
              "median         0.000000         0.000000  \n",
              "max          360.000000       359.000000  \n",
              "min            0.000000         0.000000  \n",
              "skew           2.597406         2.596904  \n",
              "kurt           6.454514         6.442553  "
            ],
            "text/html": [
              "\n",
              "  <div id=\"df-647f59c6-109f-457d-bc3c-d86019b02c70\">\n",
              "    <div class=\"colab-df-container\">\n",
              "      <div>\n",
              "<style scoped>\n",
              "    .dataframe tbody tr th:only-of-type {\n",
              "        vertical-align: middle;\n",
              "    }\n",
              "\n",
              "    .dataframe tbody tr th {\n",
              "        vertical-align: top;\n",
              "    }\n",
              "\n",
              "    .dataframe thead th {\n",
              "        text-align: right;\n",
              "    }\n",
              "</style>\n",
              "<table border=\"1\" class=\"dataframe\">\n",
              "  <thead>\n",
              "    <tr style=\"text-align: right;\">\n",
              "      <th></th>\n",
              "      <th>BlueCars_taken_sum</th>\n",
              "      <th>BlueCars_returned_sum</th>\n",
              "      <th>Utilib_taken_sum</th>\n",
              "      <th>Utilib_returned_sum</th>\n",
              "      <th>Utilib_14_taken_sum</th>\n",
              "      <th>Utilib_14_returned_sum</th>\n",
              "      <th>Slots_freed_sum</th>\n",
              "      <th>Slots_taken_sum</th>\n",
              "    </tr>\n",
              "  </thead>\n",
              "  <tbody>\n",
              "    <tr>\n",
              "      <th>count</th>\n",
              "      <td>16085.000000</td>\n",
              "      <td>16085.000000</td>\n",
              "      <td>16085.000000</td>\n",
              "      <td>16085.000000</td>\n",
              "      <td>16085.000000</td>\n",
              "      <td>16085.000000</td>\n",
              "      <td>16085.000000</td>\n",
              "      <td>16085.000000</td>\n",
              "    </tr>\n",
              "    <tr>\n",
              "      <th>mean</th>\n",
              "      <td>125.926951</td>\n",
              "      <td>125.912714</td>\n",
              "      <td>3.698290</td>\n",
              "      <td>3.699099</td>\n",
              "      <td>8.600560</td>\n",
              "      <td>8.599192</td>\n",
              "      <td>22.629033</td>\n",
              "      <td>22.629282</td>\n",
              "    </tr>\n",
              "    <tr>\n",
              "      <th>std</th>\n",
              "      <td>185.426579</td>\n",
              "      <td>185.501535</td>\n",
              "      <td>5.815058</td>\n",
              "      <td>5.824634</td>\n",
              "      <td>12.870098</td>\n",
              "      <td>12.868993</td>\n",
              "      <td>52.120263</td>\n",
              "      <td>52.146030</td>\n",
              "    </tr>\n",
              "    <tr>\n",
              "      <th>var</th>\n",
              "      <td>34383.016113</td>\n",
              "      <td>34410.819414</td>\n",
              "      <td>33.814897</td>\n",
              "      <td>33.926364</td>\n",
              "      <td>165.639430</td>\n",
              "      <td>165.610979</td>\n",
              "      <td>2716.521850</td>\n",
              "      <td>2719.208431</td>\n",
              "    </tr>\n",
              "    <tr>\n",
              "      <th>median</th>\n",
              "      <td>46.000000</td>\n",
              "      <td>46.000000</td>\n",
              "      <td>1.000000</td>\n",
              "      <td>1.000000</td>\n",
              "      <td>3.000000</td>\n",
              "      <td>3.000000</td>\n",
              "      <td>0.000000</td>\n",
              "      <td>0.000000</td>\n",
              "    </tr>\n",
              "    <tr>\n",
              "      <th>max</th>\n",
              "      <td>1352.000000</td>\n",
              "      <td>1332.000000</td>\n",
              "      <td>54.000000</td>\n",
              "      <td>58.000000</td>\n",
              "      <td>100.000000</td>\n",
              "      <td>101.000000</td>\n",
              "      <td>360.000000</td>\n",
              "      <td>359.000000</td>\n",
              "    </tr>\n",
              "    <tr>\n",
              "      <th>min</th>\n",
              "      <td>0.000000</td>\n",
              "      <td>0.000000</td>\n",
              "      <td>0.000000</td>\n",
              "      <td>0.000000</td>\n",
              "      <td>0.000000</td>\n",
              "      <td>0.000000</td>\n",
              "      <td>0.000000</td>\n",
              "      <td>0.000000</td>\n",
              "    </tr>\n",
              "    <tr>\n",
              "      <th>skew</th>\n",
              "      <td>2.406355</td>\n",
              "      <td>2.412085</td>\n",
              "      <td>2.556872</td>\n",
              "      <td>2.578665</td>\n",
              "      <td>2.510924</td>\n",
              "      <td>2.511488</td>\n",
              "      <td>2.597406</td>\n",
              "      <td>2.596904</td>\n",
              "    </tr>\n",
              "    <tr>\n",
              "      <th>kurt</th>\n",
              "      <td>6.172692</td>\n",
              "      <td>6.186288</td>\n",
              "      <td>7.702362</td>\n",
              "      <td>7.936357</td>\n",
              "      <td>7.186815</td>\n",
              "      <td>7.185463</td>\n",
              "      <td>6.454514</td>\n",
              "      <td>6.442553</td>\n",
              "    </tr>\n",
              "  </tbody>\n",
              "</table>\n",
              "</div>\n",
              "      <button class=\"colab-df-convert\" onclick=\"convertToInteractive('df-647f59c6-109f-457d-bc3c-d86019b02c70')\"\n",
              "              title=\"Convert this dataframe to an interactive table.\"\n",
              "              style=\"display:none;\">\n",
              "        \n",
              "  <svg xmlns=\"http://www.w3.org/2000/svg\" height=\"24px\"viewBox=\"0 0 24 24\"\n",
              "       width=\"24px\">\n",
              "    <path d=\"M0 0h24v24H0V0z\" fill=\"none\"/>\n",
              "    <path d=\"M18.56 5.44l.94 2.06.94-2.06 2.06-.94-2.06-.94-.94-2.06-.94 2.06-2.06.94zm-11 1L8.5 8.5l.94-2.06 2.06-.94-2.06-.94L8.5 2.5l-.94 2.06-2.06.94zm10 10l.94 2.06.94-2.06 2.06-.94-2.06-.94-.94-2.06-.94 2.06-2.06.94z\"/><path d=\"M17.41 7.96l-1.37-1.37c-.4-.4-.92-.59-1.43-.59-.52 0-1.04.2-1.43.59L10.3 9.45l-7.72 7.72c-.78.78-.78 2.05 0 2.83L4 21.41c.39.39.9.59 1.41.59.51 0 1.02-.2 1.41-.59l7.78-7.78 2.81-2.81c.8-.78.8-2.07 0-2.86zM5.41 20L4 18.59l7.72-7.72 1.47 1.35L5.41 20z\"/>\n",
              "  </svg>\n",
              "      </button>\n",
              "      \n",
              "  <style>\n",
              "    .colab-df-container {\n",
              "      display:flex;\n",
              "      flex-wrap:wrap;\n",
              "      gap: 12px;\n",
              "    }\n",
              "\n",
              "    .colab-df-convert {\n",
              "      background-color: #E8F0FE;\n",
              "      border: none;\n",
              "      border-radius: 50%;\n",
              "      cursor: pointer;\n",
              "      display: none;\n",
              "      fill: #1967D2;\n",
              "      height: 32px;\n",
              "      padding: 0 0 0 0;\n",
              "      width: 32px;\n",
              "    }\n",
              "\n",
              "    .colab-df-convert:hover {\n",
              "      background-color: #E2EBFA;\n",
              "      box-shadow: 0px 1px 2px rgba(60, 64, 67, 0.3), 0px 1px 3px 1px rgba(60, 64, 67, 0.15);\n",
              "      fill: #174EA6;\n",
              "    }\n",
              "\n",
              "    [theme=dark] .colab-df-convert {\n",
              "      background-color: #3B4455;\n",
              "      fill: #D2E3FC;\n",
              "    }\n",
              "\n",
              "    [theme=dark] .colab-df-convert:hover {\n",
              "      background-color: #434B5C;\n",
              "      box-shadow: 0px 1px 3px 1px rgba(0, 0, 0, 0.15);\n",
              "      filter: drop-shadow(0px 1px 2px rgba(0, 0, 0, 0.3));\n",
              "      fill: #FFFFFF;\n",
              "    }\n",
              "  </style>\n",
              "\n",
              "      <script>\n",
              "        const buttonEl =\n",
              "          document.querySelector('#df-647f59c6-109f-457d-bc3c-d86019b02c70 button.colab-df-convert');\n",
              "        buttonEl.style.display =\n",
              "          google.colab.kernel.accessAllowed ? 'block' : 'none';\n",
              "\n",
              "        async function convertToInteractive(key) {\n",
              "          const element = document.querySelector('#df-647f59c6-109f-457d-bc3c-d86019b02c70');\n",
              "          const dataTable =\n",
              "            await google.colab.kernel.invokeFunction('convertToInteractive',\n",
              "                                                     [key], {});\n",
              "          if (!dataTable) return;\n",
              "\n",
              "          const docLinkHtml = 'Like what you see? Visit the ' +\n",
              "            '<a target=\"_blank\" href=https://colab.research.google.com/notebooks/data_table.ipynb>data table notebook</a>'\n",
              "            + ' to learn more about interactive tables.';\n",
              "          element.innerHTML = '';\n",
              "          dataTable['output_type'] = 'display_data';\n",
              "          await google.colab.output.renderOutput(dataTable, element);\n",
              "          const docLink = document.createElement('div');\n",
              "          docLink.innerHTML = docLinkHtml;\n",
              "          element.appendChild(docLink);\n",
              "        }\n",
              "      </script>\n",
              "    </div>\n",
              "  </div>\n",
              "  "
            ]
          },
          "metadata": {},
          "execution_count": 4
        }
      ]
    },
    {
      "cell_type": "markdown",
      "source": [
        "The output on the numeric variables shows us the count, mean, standard deviation, variance, median, maximum and minimum values, skewness and kurtosis measures.\n",
        "\n",
        "All the variables have a **count** of 16,085 which confirms that there's no missing values. \n",
        "\n",
        "The **mean** represents the average of the data points recorded in each variable and is attained by dividing the sum of all values in a variable by the count (16,085). \n",
        "\n",
        "**Standard deviation** and **variance** are measures of dispersion. The closer the values are to zero, the more clustered the data points are around the mean else they are spread out. The higher the value, the more spread out they are.\n",
        "\n",
        "The **median** represents the value in the middle once the data is arranged in ascending order.\n",
        "\n",
        "The **mode** represents the value that occurred most times.\n",
        "\n",
        "The **maximum** and **minimum** values are the highest and lowest recorded values in a variable\n",
        "\n",
        "**Skewness** is a statistical measure of asymmetric distribution of data.  A negative skew indicates that the tail is on the left side of the distribution, which extends towards more negative values. A positive skew indicates that the tail is on the right side of the distribution, which extends towards more positive values. A value of zero indicates that there is no skewness in the distribution at all, meaning the distribution is perfectly symmetrical.\n",
        "\n",
        "**Kurtosis** helps determine if the distribution is heavy-tailed compared to a normal distribution. The kurtosis of a normal distribution is 3. If a given distribution has a kurtosis greater than 3 then it is said to be leptokurtic, which means it tends to produce more outliers than the normal distribution. If it's less than 3, it means it tends to produce fewer and less extreme outliers than the normal distribution.\n",
        "\n",
        "**Range** is an index of variability. When the range is more the group is more variable. The smaller the range the more homogeneous is the group.\n",
        "\n",
        "\n"
      ],
      "metadata": {
        "id": "fI7ZKdErO7Y4"
      }
    },
    {
      "cell_type": "code",
      "source": [
        "# Calculating the interquantile range\n",
        "\n",
        "interquantile_range = numeric_variables.quantile(.75) - numeric_variables.quantile(.25)\n",
        "print(interquantile_range)\n",
        "\n",
        "# Checking the 0.25,0.50 and 0.75 quantiles\n",
        "\n",
        "quantiles = numeric_variables.quantile([.25,.5,.75])\n",
        "quantiles\n",
        "# The output shows the interquantile range and the 25th, 50th and 75th percentiles for the numeric variables"
      ],
      "metadata": {
        "colab": {
          "base_uri": "https://localhost:8080/",
          "height": 372
        },
        "id": "2Cl27tHl5KmO",
        "outputId": "e72db679-ab3b-4bfd-898d-b88978faed5c"
      },
      "execution_count": 5,
      "outputs": [
        {
          "output_type": "stream",
          "name": "stdout",
          "text": [
            "BlueCars_taken_sum        115.0\n",
            "BlueCars_returned_sum     115.0\n",
            "Utilib_taken_sum            4.0\n",
            "Utilib_returned_sum         4.0\n",
            "Utilib_14_taken_sum         9.0\n",
            "Utilib_14_returned_sum      9.0\n",
            "Slots_freed_sum             5.0\n",
            "Slots_taken_sum             5.0\n",
            "dtype: float64\n"
          ]
        },
        {
          "output_type": "execute_result",
          "data": {
            "text/plain": [
              "      BlueCars_taken_sum  BlueCars_returned_sum  Utilib_taken_sum  \\\n",
              "0.25                20.0                   20.0               0.0   \n",
              "0.50                46.0                   46.0               1.0   \n",
              "0.75               135.0                  135.0               4.0   \n",
              "\n",
              "      Utilib_returned_sum  Utilib_14_taken_sum  Utilib_14_returned_sum  \\\n",
              "0.25                  0.0                  1.0                     1.0   \n",
              "0.50                  1.0                  3.0                     3.0   \n",
              "0.75                  4.0                 10.0                    10.0   \n",
              "\n",
              "      Slots_freed_sum  Slots_taken_sum  \n",
              "0.25              0.0              0.0  \n",
              "0.50              0.0              0.0  \n",
              "0.75              5.0              5.0  "
            ],
            "text/html": [
              "\n",
              "  <div id=\"df-7a9b2e75-3cd6-4c11-938f-0e49d62b77f5\">\n",
              "    <div class=\"colab-df-container\">\n",
              "      <div>\n",
              "<style scoped>\n",
              "    .dataframe tbody tr th:only-of-type {\n",
              "        vertical-align: middle;\n",
              "    }\n",
              "\n",
              "    .dataframe tbody tr th {\n",
              "        vertical-align: top;\n",
              "    }\n",
              "\n",
              "    .dataframe thead th {\n",
              "        text-align: right;\n",
              "    }\n",
              "</style>\n",
              "<table border=\"1\" class=\"dataframe\">\n",
              "  <thead>\n",
              "    <tr style=\"text-align: right;\">\n",
              "      <th></th>\n",
              "      <th>BlueCars_taken_sum</th>\n",
              "      <th>BlueCars_returned_sum</th>\n",
              "      <th>Utilib_taken_sum</th>\n",
              "      <th>Utilib_returned_sum</th>\n",
              "      <th>Utilib_14_taken_sum</th>\n",
              "      <th>Utilib_14_returned_sum</th>\n",
              "      <th>Slots_freed_sum</th>\n",
              "      <th>Slots_taken_sum</th>\n",
              "    </tr>\n",
              "  </thead>\n",
              "  <tbody>\n",
              "    <tr>\n",
              "      <th>0.25</th>\n",
              "      <td>20.0</td>\n",
              "      <td>20.0</td>\n",
              "      <td>0.0</td>\n",
              "      <td>0.0</td>\n",
              "      <td>1.0</td>\n",
              "      <td>1.0</td>\n",
              "      <td>0.0</td>\n",
              "      <td>0.0</td>\n",
              "    </tr>\n",
              "    <tr>\n",
              "      <th>0.50</th>\n",
              "      <td>46.0</td>\n",
              "      <td>46.0</td>\n",
              "      <td>1.0</td>\n",
              "      <td>1.0</td>\n",
              "      <td>3.0</td>\n",
              "      <td>3.0</td>\n",
              "      <td>0.0</td>\n",
              "      <td>0.0</td>\n",
              "    </tr>\n",
              "    <tr>\n",
              "      <th>0.75</th>\n",
              "      <td>135.0</td>\n",
              "      <td>135.0</td>\n",
              "      <td>4.0</td>\n",
              "      <td>4.0</td>\n",
              "      <td>10.0</td>\n",
              "      <td>10.0</td>\n",
              "      <td>5.0</td>\n",
              "      <td>5.0</td>\n",
              "    </tr>\n",
              "  </tbody>\n",
              "</table>\n",
              "</div>\n",
              "      <button class=\"colab-df-convert\" onclick=\"convertToInteractive('df-7a9b2e75-3cd6-4c11-938f-0e49d62b77f5')\"\n",
              "              title=\"Convert this dataframe to an interactive table.\"\n",
              "              style=\"display:none;\">\n",
              "        \n",
              "  <svg xmlns=\"http://www.w3.org/2000/svg\" height=\"24px\"viewBox=\"0 0 24 24\"\n",
              "       width=\"24px\">\n",
              "    <path d=\"M0 0h24v24H0V0z\" fill=\"none\"/>\n",
              "    <path d=\"M18.56 5.44l.94 2.06.94-2.06 2.06-.94-2.06-.94-.94-2.06-.94 2.06-2.06.94zm-11 1L8.5 8.5l.94-2.06 2.06-.94-2.06-.94L8.5 2.5l-.94 2.06-2.06.94zm10 10l.94 2.06.94-2.06 2.06-.94-2.06-.94-.94-2.06-.94 2.06-2.06.94z\"/><path d=\"M17.41 7.96l-1.37-1.37c-.4-.4-.92-.59-1.43-.59-.52 0-1.04.2-1.43.59L10.3 9.45l-7.72 7.72c-.78.78-.78 2.05 0 2.83L4 21.41c.39.39.9.59 1.41.59.51 0 1.02-.2 1.41-.59l7.78-7.78 2.81-2.81c.8-.78.8-2.07 0-2.86zM5.41 20L4 18.59l7.72-7.72 1.47 1.35L5.41 20z\"/>\n",
              "  </svg>\n",
              "      </button>\n",
              "      \n",
              "  <style>\n",
              "    .colab-df-container {\n",
              "      display:flex;\n",
              "      flex-wrap:wrap;\n",
              "      gap: 12px;\n",
              "    }\n",
              "\n",
              "    .colab-df-convert {\n",
              "      background-color: #E8F0FE;\n",
              "      border: none;\n",
              "      border-radius: 50%;\n",
              "      cursor: pointer;\n",
              "      display: none;\n",
              "      fill: #1967D2;\n",
              "      height: 32px;\n",
              "      padding: 0 0 0 0;\n",
              "      width: 32px;\n",
              "    }\n",
              "\n",
              "    .colab-df-convert:hover {\n",
              "      background-color: #E2EBFA;\n",
              "      box-shadow: 0px 1px 2px rgba(60, 64, 67, 0.3), 0px 1px 3px 1px rgba(60, 64, 67, 0.15);\n",
              "      fill: #174EA6;\n",
              "    }\n",
              "\n",
              "    [theme=dark] .colab-df-convert {\n",
              "      background-color: #3B4455;\n",
              "      fill: #D2E3FC;\n",
              "    }\n",
              "\n",
              "    [theme=dark] .colab-df-convert:hover {\n",
              "      background-color: #434B5C;\n",
              "      box-shadow: 0px 1px 3px 1px rgba(0, 0, 0, 0.15);\n",
              "      filter: drop-shadow(0px 1px 2px rgba(0, 0, 0, 0.3));\n",
              "      fill: #FFFFFF;\n",
              "    }\n",
              "  </style>\n",
              "\n",
              "      <script>\n",
              "        const buttonEl =\n",
              "          document.querySelector('#df-7a9b2e75-3cd6-4c11-938f-0e49d62b77f5 button.colab-df-convert');\n",
              "        buttonEl.style.display =\n",
              "          google.colab.kernel.accessAllowed ? 'block' : 'none';\n",
              "\n",
              "        async function convertToInteractive(key) {\n",
              "          const element = document.querySelector('#df-7a9b2e75-3cd6-4c11-938f-0e49d62b77f5');\n",
              "          const dataTable =\n",
              "            await google.colab.kernel.invokeFunction('convertToInteractive',\n",
              "                                                     [key], {});\n",
              "          if (!dataTable) return;\n",
              "\n",
              "          const docLinkHtml = 'Like what you see? Visit the ' +\n",
              "            '<a target=\"_blank\" href=https://colab.research.google.com/notebooks/data_table.ipynb>data table notebook</a>'\n",
              "            + ' to learn more about interactive tables.';\n",
              "          element.innerHTML = '';\n",
              "          dataTable['output_type'] = 'display_data';\n",
              "          await google.colab.output.renderOutput(dataTable, element);\n",
              "          const docLink = document.createElement('div');\n",
              "          docLink.innerHTML = docLinkHtml;\n",
              "          element.appendChild(docLink);\n",
              "        }\n",
              "      </script>\n",
              "    </div>\n",
              "  </div>\n",
              "  "
            ]
          },
          "metadata": {},
          "execution_count": 5
        }
      ]
    },
    {
      "cell_type": "markdown",
      "source": [
        "The further the interquartile range is from 0, the more spread out the data points are. "
      ],
      "metadata": {
        "id": "nEwYDCA-HbxQ"
      }
    },
    {
      "cell_type": "markdown",
      "source": [
        "## **Exploratory Data Analysis**"
      ],
      "metadata": {
        "id": "ogxkySoFJZ0M"
      }
    },
    {
      "cell_type": "code",
      "source": [
        "# We shall check for outliers by using the interquantile range\n",
        "\n",
        "\n",
        "# Replacing  the data points that lie outside of the lower and the upper bound with a NULL value.\n",
        "q1 = data.quantile(.25)\n",
        "q3 = data.quantile(.75)\n",
        "IQR = q3 - q1\n",
        "  \n",
        "upper_bound = q3 + 1.5*IQR\n",
        "lower_bound = q1 - 1.5*IQR \n",
        "\n",
        "for i in data:\n",
        "  Q1 = data.quantile(.25)\n",
        "  Q3 = data.quantile(.75)\n",
        "  IQR = Q3 - Q1\n",
        "\n",
        "  upper_boundary = Q3 + 1.5*IQR\n",
        "  lower_boundary = Q1 - 1.5*IQR\n",
        "\n",
        "print([upper_boundary,lower_boundary])\n",
        "\n",
        "# making outliers null values\n",
        "\n",
        "data.loc[data['BlueCars_taken_sum'] > 307.5] = np.nan\n",
        "data.loc[data['BlueCars_returned_sum'] > 307.5] = np.nan\n",
        "data.loc[data['Utilib_taken_sum'] > 10] = np.nan\n",
        "data.loc[data['Utilib_returned_sum'] > 10] = np.nan\n",
        "data.loc[data['Utilib_14_taken_sum'] > 23.5] = np.nan\n",
        "data.loc[data['Utilib_14_returned_sum'] > 23.5] = np.nan\n",
        "data.loc[data['Slots_taken_sum'] > 12.5] = np.nan\n",
        "data.loc[data['Slots_freed_sum'] > 12.5] = np.nan\n",
        "\n",
        "# dropping null values \n",
        "data.dropna()\n",
        "data.shape\n",
        "\n",
        "# The data still has 16, 085 entries meaning there were no outliers"
      ],
      "metadata": {
        "colab": {
          "base_uri": "https://localhost:8080/"
        },
        "id": "4v6JJjE9JfQl",
        "outputId": "61e824ba-66b4-4eb8-9ec8-f607a1de0221"
      },
      "execution_count": 6,
      "outputs": [
        {
          "output_type": "stream",
          "name": "stdout",
          "text": [
            "[Postal code               96505.0\n",
            "n_daily_data_points        1441.5\n",
            "dayOfWeek                    11.0\n",
            "BlueCars_taken_sum          307.5\n",
            "BlueCars_returned_sum       307.5\n",
            "Utilib_taken_sum             10.0\n",
            "Utilib_returned_sum          10.0\n",
            "Utilib_14_taken_sum          23.5\n",
            "Utilib_14_returned_sum       23.5\n",
            "Slots_freed_sum              12.5\n",
            "Slots_taken_sum              12.5\n",
            "dtype: float64, Postal code               88225.0\n",
            "n_daily_data_points        1437.5\n",
            "dayOfWeek                    -5.0\n",
            "BlueCars_taken_sum         -152.5\n",
            "BlueCars_returned_sum      -152.5\n",
            "Utilib_taken_sum             -6.0\n",
            "Utilib_returned_sum          -6.0\n",
            "Utilib_14_taken_sum         -12.5\n",
            "Utilib_14_returned_sum      -12.5\n",
            "Slots_freed_sum              -7.5\n",
            "Slots_taken_sum              -7.5\n",
            "dtype: float64]\n"
          ]
        },
        {
          "output_type": "execute_result",
          "data": {
            "text/plain": [
              "(16085, 13)"
            ]
          },
          "metadata": {},
          "execution_count": 6
        }
      ]
    },
    {
      "cell_type": "code",
      "source": [
        "# Histograms showing the numeric variables distributions \n",
        "\n",
        "fig, (hist1,hist2, hist3,hist4) = plt.subplots(1,4, figsize=(17, 5))\n",
        "plt.suptitle('Histograms', fontsize = 15, y = 0.92, color = 'black')\n",
        "data['BlueCars_taken_sum'].hist(ax=hist1, color = \"teal\")\n",
        "data['BlueCars_returned_sum'].hist(ax=hist2, color = \"teal\")\n",
        "data['Slots_freed_sum'].hist(ax=hist3, color = \"orange\")\n",
        "data['Slots_taken_sum'].hist(ax=hist4, color = \"orange\")\n"
      ],
      "metadata": {
        "colab": {
          "base_uri": "https://localhost:8080/",
          "height": 352
        },
        "id": "7M6RAWoQ-Mif",
        "outputId": "fe3b6796-4675-45f6-f36c-d68e40ce772b"
      },
      "execution_count": 7,
      "outputs": [
        {
          "output_type": "execute_result",
          "data": {
            "text/plain": [
              "<matplotlib.axes._subplots.AxesSubplot at 0x7f104d38f750>"
            ]
          },
          "metadata": {},
          "execution_count": 7
        },
        {
          "output_type": "display_data",
          "data": {
            "text/plain": [
              "<Figure size 1224x360 with 4 Axes>"
            ],
            "image/png": "[encoded data removed]"
          },
          "metadata": {
            "needs_background": "light"
          }
        }
      ]
    },
    {
      "cell_type": "code",
      "source": [
        "fig, (hist1,hist2, hist3,hist4) = plt.subplots(1,4, figsize=(17, 5))\n",
        "plt.suptitle('Histograms', fontsize = 15, y = 0.92, color = 'black')\n",
        "data['Utilib_taken_sum'].hist(ax=hist1, color = \"red\")\n",
        "data['Utilib_returned_sum'].hist(ax=hist2, color = \"red\")\n",
        "data['Utilib_14_taken_sum'].hist(ax=hist3, color = \"blue\")\n",
        "data['Utilib_14_returned_sum'].hist(ax=hist4, color = \"blue\")\n",
        " "
      ],
      "metadata": {
        "colab": {
          "base_uri": "https://localhost:8080/",
          "height": 352
        },
        "id": "h46npmuaR3HO",
        "outputId": "1a58b415-ac7f-4ceb-accf-637b9f84500c"
      },
      "execution_count": 8,
      "outputs": [
        {
          "output_type": "execute_result",
          "data": {
            "text/plain": [
              "<matplotlib.axes._subplots.AxesSubplot at 0x7f104cc72690>"
            ]
          },
          "metadata": {},
          "execution_count": 8
        },
        {
          "output_type": "display_data",
          "data": {
            "text/plain": [
              "<Figure size 1224x360 with 4 Axes>"
            ],
            "image/png": "[encoded data removed]"
          },
          "metadata": {
            "needs_background": "light"
          }
        }
      ]
    },
    {
      "cell_type": "code",
      "source": [
        "sns.heatmap(numeric_variables.corr(),annot=True)\n",
        "plt.show()"
      ],
      "metadata": {
        "colab": {
          "base_uri": "https://localhost:8080/",
          "height": 378
        },
        "id": "J54WRRSSt39h",
        "outputId": "a460fada-8d50-43a8-d4c0-d97fe9efa47c"
      },
      "execution_count": 9,
      "outputs": [
        {
          "output_type": "display_data",
          "data": {
            "text/plain": [
              "<Figure size 432x288 with 2 Axes>"
            ],
            "image/png": "[encoded data removed]"
          },
          "metadata": {
            "needs_background": "light"
          }
        }
      ]
    },
    {
      "cell_type": "markdown",
      "source": [
        "The heat map shows us how the numeric variables correlate to each other. \n",
        "Correlation coefficients between -.20 and .20 are generally considered weak, between .20 and .50 (positive or negative) are considered moderate,and above .50 (positive or negative) are considered strong.\n",
        "The correlations are also color-coded. The stronger the correlation, the lighter the color shade."
      ],
      "metadata": {
        "id": "-u4bvit_cMSf"
      }
    },
    {
      "cell_type": "markdown",
      "source": [
        "## **Categorical Variables**"
      ],
      "metadata": {
        "id": "uEPGjDa1mgmS"
      }
    },
    {
      "cell_type": "code",
      "source": [
        "\n",
        "# Changing day of week variable to a categorical variable\n",
        "data['dayOfWeek'] = pd.Categorical(data.dayOfWeek)\n",
        "\n",
        "# Checking which categories are there\n",
        "data['dayOfWeek'].unique()\n",
        "\n",
        "# There are 7 categories representing the 7 days of the week\n",
        "\n",
        "# Checking the unique categories under day_type\n",
        "data['day_type'].unique()\n",
        "\n",
        "# There are 2, weekday and weekend\n",
        "\n",
        "# Frequency table to see how the days of the week are categorized under day type\n",
        "\n",
        "pd.crosstab(data['day_type'],data['dayOfWeek'])\n",
        "\n",
        "# This shows that day of the week = 0 is Monday\n",
        "\n"
      ],
      "metadata": {
        "colab": {
          "base_uri": "https://localhost:8080/",
          "height": 143
        },
        "id": "ektCr_HygAM9",
        "outputId": "e9a6546a-1fa0-4ad0-801f-23d9df1605d7"
      },
      "execution_count": 10,
      "outputs": [
        {
          "output_type": "execute_result",
          "data": {
            "text/plain": [
              "dayOfWeek   0.0   1.0   2.0   3.0   4.0   5.0   6.0\n",
              "day_type                                           \n",
              "weekday    1873  1880  1775  1779  1769     0     0\n",
              "weekend       0     0     0     0     0  1739  1748"
            ],
            "text/html": [
              "\n",
              "  <div id=\"df-dcf36c6b-1330-4419-ab70-993a5b5e158b\">\n",
              "    <div class=\"colab-df-container\">\n",
              "      <div>\n",
              "<style scoped>\n",
              "    .dataframe tbody tr th:only-of-type {\n",
              "        vertical-align: middle;\n",
              "    }\n",
              "\n",
              "    .dataframe tbody tr th {\n",
              "        vertical-align: top;\n",
              "    }\n",
              "\n",
              "    .dataframe thead th {\n",
              "        text-align: right;\n",
              "    }\n",
              "</style>\n",
              "<table border=\"1\" class=\"dataframe\">\n",
              "  <thead>\n",
              "    <tr style=\"text-align: right;\">\n",
              "      <th>dayOfWeek</th>\n",
              "      <th>0.0</th>\n",
              "      <th>1.0</th>\n",
              "      <th>2.0</th>\n",
              "      <th>3.0</th>\n",
              "      <th>4.0</th>\n",
              "      <th>5.0</th>\n",
              "      <th>6.0</th>\n",
              "    </tr>\n",
              "    <tr>\n",
              "      <th>day_type</th>\n",
              "      <th></th>\n",
              "      <th></th>\n",
              "      <th></th>\n",
              "      <th></th>\n",
              "      <th></th>\n",
              "      <th></th>\n",
              "      <th></th>\n",
              "    </tr>\n",
              "  </thead>\n",
              "  <tbody>\n",
              "    <tr>\n",
              "      <th>weekday</th>\n",
              "      <td>1873</td>\n",
              "      <td>1880</td>\n",
              "      <td>1775</td>\n",
              "      <td>1779</td>\n",
              "      <td>1769</td>\n",
              "      <td>0</td>\n",
              "      <td>0</td>\n",
              "    </tr>\n",
              "    <tr>\n",
              "      <th>weekend</th>\n",
              "      <td>0</td>\n",
              "      <td>0</td>\n",
              "      <td>0</td>\n",
              "      <td>0</td>\n",
              "      <td>0</td>\n",
              "      <td>1739</td>\n",
              "      <td>1748</td>\n",
              "    </tr>\n",
              "  </tbody>\n",
              "</table>\n",
              "</div>\n",
              "      <button class=\"colab-df-convert\" onclick=\"convertToInteractive('df-dcf36c6b-1330-4419-ab70-993a5b5e158b')\"\n",
              "              title=\"Convert this dataframe to an interactive table.\"\n",
              "              style=\"display:none;\">\n",
              "        \n",
              "  <svg xmlns=\"http://www.w3.org/2000/svg\" height=\"24px\"viewBox=\"0 0 24 24\"\n",
              "       width=\"24px\">\n",
              "    <path d=\"M0 0h24v24H0V0z\" fill=\"none\"/>\n",
              "    <path d=\"M18.56 5.44l.94 2.06.94-2.06 2.06-.94-2.06-.94-.94-2.06-.94 2.06-2.06.94zm-11 1L8.5 8.5l.94-2.06 2.06-.94-2.06-.94L8.5 2.5l-.94 2.06-2.06.94zm10 10l.94 2.06.94-2.06 2.06-.94-2.06-.94-.94-2.06-.94 2.06-2.06.94z\"/><path d=\"M17.41 7.96l-1.37-1.37c-.4-.4-.92-.59-1.43-.59-.52 0-1.04.2-1.43.59L10.3 9.45l-7.72 7.72c-.78.78-.78 2.05 0 2.83L4 21.41c.39.39.9.59 1.41.59.51 0 1.02-.2 1.41-.59l7.78-7.78 2.81-2.81c.8-.78.8-2.07 0-2.86zM5.41 20L4 18.59l7.72-7.72 1.47 1.35L5.41 20z\"/>\n",
              "  </svg>\n",
              "      </button>\n",
              "      \n",
              "  <style>\n",
              "    .colab-df-container {\n",
              "      display:flex;\n",
              "      flex-wrap:wrap;\n",
              "      gap: 12px;\n",
              "    }\n",
              "\n",
              "    .colab-df-convert {\n",
              "      background-color: #E8F0FE;\n",
              "      border: none;\n",
              "      border-radius: 50%;\n",
              "      cursor: pointer;\n",
              "      display: none;\n",
              "      fill: #1967D2;\n",
              "      height: 32px;\n",
              "      padding: 0 0 0 0;\n",
              "      width: 32px;\n",
              "    }\n",
              "\n",
              "    .colab-df-convert:hover {\n",
              "      background-color: #E2EBFA;\n",
              "      box-shadow: 0px 1px 2px rgba(60, 64, 67, 0.3), 0px 1px 3px 1px rgba(60, 64, 67, 0.15);\n",
              "      fill: #174EA6;\n",
              "    }\n",
              "\n",
              "    [theme=dark] .colab-df-convert {\n",
              "      background-color: #3B4455;\n",
              "      fill: #D2E3FC;\n",
              "    }\n",
              "\n",
              "    [theme=dark] .colab-df-convert:hover {\n",
              "      background-color: #434B5C;\n",
              "      box-shadow: 0px 1px 3px 1px rgba(0, 0, 0, 0.15);\n",
              "      filter: drop-shadow(0px 1px 2px rgba(0, 0, 0, 0.3));\n",
              "      fill: #FFFFFF;\n",
              "    }\n",
              "  </style>\n",
              "\n",
              "      <script>\n",
              "        const buttonEl =\n",
              "          document.querySelector('#df-dcf36c6b-1330-4419-ab70-993a5b5e158b button.colab-df-convert');\n",
              "        buttonEl.style.display =\n",
              "          google.colab.kernel.accessAllowed ? 'block' : 'none';\n",
              "\n",
              "        async function convertToInteractive(key) {\n",
              "          const element = document.querySelector('#df-dcf36c6b-1330-4419-ab70-993a5b5e158b');\n",
              "          const dataTable =\n",
              "            await google.colab.kernel.invokeFunction('convertToInteractive',\n",
              "                                                     [key], {});\n",
              "          if (!dataTable) return;\n",
              "\n",
              "          const docLinkHtml = 'Like what you see? Visit the ' +\n",
              "            '<a target=\"_blank\" href=https://colab.research.google.com/notebooks/data_table.ipynb>data table notebook</a>'\n",
              "            + ' to learn more about interactive tables.';\n",
              "          element.innerHTML = '';\n",
              "          dataTable['output_type'] = 'display_data';\n",
              "          await google.colab.output.renderOutput(dataTable, element);\n",
              "          const docLink = document.createElement('div');\n",
              "          docLink.innerHTML = docLinkHtml;\n",
              "          element.appendChild(docLink);\n",
              "        }\n",
              "      </script>\n",
              "    </div>\n",
              "  </div>\n",
              "  "
            ]
          },
          "metadata": {},
          "execution_count": 10
        }
      ]
    },
    {
      "cell_type": "code",
      "source": [
        "# Checking which day of the week the blue cars were taken most\n",
        "\n",
        "pd.crosstab(data['dayOfWeek'],data['BlueCars_taken_sum'].mean())\n",
        "\n",
        "# As per the frequency table, the 2nd day had most blue cars taken with a record of 1880 cars"
      ],
      "metadata": {
        "colab": {
          "base_uri": "https://localhost:8080/",
          "height": 300
        },
        "id": "batG2O_J9Qvs",
        "outputId": "31ed58c3-570a-44f8-c719-a3dfb44bff51"
      },
      "execution_count": 11,
      "outputs": [
        {
          "output_type": "execute_result",
          "data": {
            "text/plain": [
              "col_0      46.971026\n",
              "dayOfWeek           \n",
              "0.0             1873\n",
              "1.0             1880\n",
              "2.0             1775\n",
              "3.0             1779\n",
              "4.0             1769\n",
              "5.0             1739\n",
              "6.0             1748"
            ],
            "text/html": [
              "\n",
              "  <div id=\"df-c8f1738c-9297-4a3b-a688-53152fc5196e\">\n",
              "    <div class=\"colab-df-container\">\n",
              "      <div>\n",
              "<style scoped>\n",
              "    .dataframe tbody tr th:only-of-type {\n",
              "        vertical-align: middle;\n",
              "    }\n",
              "\n",
              "    .dataframe tbody tr th {\n",
              "        vertical-align: top;\n",
              "    }\n",
              "\n",
              "    .dataframe thead th {\n",
              "        text-align: right;\n",
              "    }\n",
              "</style>\n",
              "<table border=\"1\" class=\"dataframe\">\n",
              "  <thead>\n",
              "    <tr style=\"text-align: right;\">\n",
              "      <th>col_0</th>\n",
              "      <th>46.971026</th>\n",
              "    </tr>\n",
              "    <tr>\n",
              "      <th>dayOfWeek</th>\n",
              "      <th></th>\n",
              "    </tr>\n",
              "  </thead>\n",
              "  <tbody>\n",
              "    <tr>\n",
              "      <th>0.0</th>\n",
              "      <td>1873</td>\n",
              "    </tr>\n",
              "    <tr>\n",
              "      <th>1.0</th>\n",
              "      <td>1880</td>\n",
              "    </tr>\n",
              "    <tr>\n",
              "      <th>2.0</th>\n",
              "      <td>1775</td>\n",
              "    </tr>\n",
              "    <tr>\n",
              "      <th>3.0</th>\n",
              "      <td>1779</td>\n",
              "    </tr>\n",
              "    <tr>\n",
              "      <th>4.0</th>\n",
              "      <td>1769</td>\n",
              "    </tr>\n",
              "    <tr>\n",
              "      <th>5.0</th>\n",
              "      <td>1739</td>\n",
              "    </tr>\n",
              "    <tr>\n",
              "      <th>6.0</th>\n",
              "      <td>1748</td>\n",
              "    </tr>\n",
              "  </tbody>\n",
              "</table>\n",
              "</div>\n",
              "      <button class=\"colab-df-convert\" onclick=\"convertToInteractive('df-c8f1738c-9297-4a3b-a688-53152fc5196e')\"\n",
              "              title=\"Convert this dataframe to an interactive table.\"\n",
              "              style=\"display:none;\">\n",
              "        \n",
              "  <svg xmlns=\"http://www.w3.org/2000/svg\" height=\"24px\"viewBox=\"0 0 24 24\"\n",
              "       width=\"24px\">\n",
              "    <path d=\"M0 0h24v24H0V0z\" fill=\"none\"/>\n",
              "    <path d=\"M18.56 5.44l.94 2.06.94-2.06 2.06-.94-2.06-.94-.94-2.06-.94 2.06-2.06.94zm-11 1L8.5 8.5l.94-2.06 2.06-.94-2.06-.94L8.5 2.5l-.94 2.06-2.06.94zm10 10l.94 2.06.94-2.06 2.06-.94-2.06-.94-.94-2.06-.94 2.06-2.06.94z\"/><path d=\"M17.41 7.96l-1.37-1.37c-.4-.4-.92-.59-1.43-.59-.52 0-1.04.2-1.43.59L10.3 9.45l-7.72 7.72c-.78.78-.78 2.05 0 2.83L4 21.41c.39.39.9.59 1.41.59.51 0 1.02-.2 1.41-.59l7.78-7.78 2.81-2.81c.8-.78.8-2.07 0-2.86zM5.41 20L4 18.59l7.72-7.72 1.47 1.35L5.41 20z\"/>\n",
              "  </svg>\n",
              "      </button>\n",
              "      \n",
              "  <style>\n",
              "    .colab-df-container {\n",
              "      display:flex;\n",
              "      flex-wrap:wrap;\n",
              "      gap: 12px;\n",
              "    }\n",
              "\n",
              "    .colab-df-convert {\n",
              "      background-color: #E8F0FE;\n",
              "      border: none;\n",
              "      border-radius: 50%;\n",
              "      cursor: pointer;\n",
              "      display: none;\n",
              "      fill: #1967D2;\n",
              "      height: 32px;\n",
              "      padding: 0 0 0 0;\n",
              "      width: 32px;\n",
              "    }\n",
              "\n",
              "    .colab-df-convert:hover {\n",
              "      background-color: #E2EBFA;\n",
              "      box-shadow: 0px 1px 2px rgba(60, 64, 67, 0.3), 0px 1px 3px 1px rgba(60, 64, 67, 0.15);\n",
              "      fill: #174EA6;\n",
              "    }\n",
              "\n",
              "    [theme=dark] .colab-df-convert {\n",
              "      background-color: #3B4455;\n",
              "      fill: #D2E3FC;\n",
              "    }\n",
              "\n",
              "    [theme=dark] .colab-df-convert:hover {\n",
              "      background-color: #434B5C;\n",
              "      box-shadow: 0px 1px 3px 1px rgba(0, 0, 0, 0.15);\n",
              "      filter: drop-shadow(0px 1px 2px rgba(0, 0, 0, 0.3));\n",
              "      fill: #FFFFFF;\n",
              "    }\n",
              "  </style>\n",
              "\n",
              "      <script>\n",
              "        const buttonEl =\n",
              "          document.querySelector('#df-c8f1738c-9297-4a3b-a688-53152fc5196e button.colab-df-convert');\n",
              "        buttonEl.style.display =\n",
              "          google.colab.kernel.accessAllowed ? 'block' : 'none';\n",
              "\n",
              "        async function convertToInteractive(key) {\n",
              "          const element = document.querySelector('#df-c8f1738c-9297-4a3b-a688-53152fc5196e');\n",
              "          const dataTable =\n",
              "            await google.colab.kernel.invokeFunction('convertToInteractive',\n",
              "                                                     [key], {});\n",
              "          if (!dataTable) return;\n",
              "\n",
              "          const docLinkHtml = 'Like what you see? Visit the ' +\n",
              "            '<a target=\"_blank\" href=https://colab.research.google.com/notebooks/data_table.ipynb>data table notebook</a>'\n",
              "            + ' to learn more about interactive tables.';\n",
              "          element.innerHTML = '';\n",
              "          dataTable['output_type'] = 'display_data';\n",
              "          await google.colab.output.renderOutput(dataTable, element);\n",
              "          const docLink = document.createElement('div');\n",
              "          docLink.innerHTML = docLinkHtml;\n",
              "          element.appendChild(docLink);\n",
              "        }\n",
              "      </script>\n",
              "    </div>\n",
              "  </div>\n",
              "  "
            ]
          },
          "metadata": {},
          "execution_count": 11
        }
      ]
    },
    {
      "cell_type": "markdown",
      "source": [
        "## **Hypothesis Testing**"
      ],
      "metadata": {
        "id": "LaewRntSZZYq"
      }
    },
    {
      "cell_type": "markdown",
      "source": [
        "### **Problem Statement**\n",
        "\n",
        "Ho: Blue cars taken in area with Postal code 95880 are equal to those taken in area with Postal code 91330 on weekdays  (Ho: u1=u2)\n",
        "\n",
        "H1: in area with Postal code 95880 are not equal to those taken in area with Postal code 91330 on weekdays (Ha: u1 != u2)\n",
        "\n",
        "This would help the business know if the two areas have the same demand and thus they can have similar marketing strategies"
      ],
      "metadata": {
        "id": "mzKGYmc8TykT"
      }
    },
    {
      "cell_type": "code",
      "source": [
        "# Since we're only considering the weekdays, we shall exclude weekends from our data\n",
        "\n",
        "df = data[data['day_type']== 'weekday']"
      ],
      "metadata": {
        "id": "LOiCeY5xEGRq"
      },
      "execution_count": 12,
      "outputs": []
    },
    {
      "cell_type": "code",
      "source": [
        "# We create two groups of different postal code, similar in size\n",
        "# Now our dataset has 9076 entries\n",
        "\n",
        "# We'll now group the data as bluecars taken in postal code 75001 and those taken in Postal code 91330 and sample 50 entries randomly.\n",
        "\n",
        "grp1 = df[df['Postal code'] == 95880].sample(50)\n",
        "grp2 = df[df['Postal code']== 91330].sample(50)"
      ],
      "metadata": {
        "id": "f4LKKPF1ENzr"
      },
      "execution_count": 15,
      "outputs": []
    },
    {
      "cell_type": "code",
      "source": [
        "# Now to get the mean and standard deviation of the cars taken in each group \n",
        "\n",
        "grp1_mean = grp1['BlueCars_taken_sum'].mean()\n",
        "grp1_std = grp1['BlueCars_taken_sum'].std()\n",
        "\n",
        "\n",
        "\n",
        "grp2_mean = grp2['BlueCars_taken_sum'].mean()\n",
        "grp2_std = grp2['BlueCars_taken_sum'].std()\n",
        "grp1.shape"
      ],
      "metadata": {
        "id": "Y0igS-F_EJrL",
        "outputId": "6ca0d608-9b7c-47c8-d447-07d85bb1d45e",
        "colab": {
          "base_uri": "https://localhost:8080/"
        }
      },
      "execution_count": 16,
      "outputs": [
        {
          "output_type": "execute_result",
          "data": {
            "text/plain": [
              "(50, 13)"
            ]
          },
          "metadata": {},
          "execution_count": 16
        }
      ]
    },
    {
      "cell_type": "code",
      "source": [
        "# Using z-test since samples > 30\n",
        "\n",
        "ztest ,pval = stests.ztest(grp1['Postal code'], x2=grp2['Postal code'], value=0, alternative='two-sided')\n",
        "\n",
        "print(\"p-value is:\", pval)\n",
        "\n",
        "if pval<0.05:\n",
        "    print(\"Since the p-value is <5%, we reject the null hypothesis\")\n",
        "else:\n",
        "    print(\"Since the p-value is >5%, we fail to reject the null hypothesis\")"
      ],
      "metadata": {
        "colab": {
          "base_uri": "https://localhost:8080/"
        },
        "id": "bgK_d-sTspfq",
        "outputId": "9b66be45-c0ef-4c20-cf66-2de9d12d9186"
      },
      "execution_count": 30,
      "outputs": [
        {
          "output_type": "stream",
          "name": "stdout",
          "text": [
            "p-value is: 0.0\n",
            "Since the p-value is <5%, we reject the null hypothesis\n"
          ]
        },
        {
          "output_type": "stream",
          "name": "stderr",
          "text": [
            "/usr/local/lib/python3.7/dist-packages/statsmodels/stats/weightstats.py:746: RuntimeWarning: divide by zero encountered in double_scalars\n",
            "  zstat = (value1 - value2 - diff) / std_diff\n"
          ]
        }
      ]
    },
    {
      "cell_type": "markdown",
      "source": [
        "Since we have rejected the null hypothesis, we now know that the two areas have different demand and therefore the marketing strategies in those areas have to differ depending on the resident's needs and lifestyles."
      ],
      "metadata": {
        "id": "vpzRtzLTJwnX"
      }
    }
  ]
}