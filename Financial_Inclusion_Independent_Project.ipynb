{
  "nbformat": 4,
  "nbformat_minor": 0,
  "metadata": {
    "colab": {
      "provenance": [],
      "collapsed_sections": [],
      "toc_visible": true,
      "authorship_tag": "ABX9TyPuvYrdZ6pHENqTKxf1MglR",
      "include_colab_link": true
    },
    "kernelspec": {
      "name": "python3",
      "display_name": "Python 3"
    },
    "language_info": {
      "name": "python"
    }
  },
  "cells": [
    {
      "cell_type": "markdown",
      "metadata": {
        "id": "view-in-github",
        "colab_type": "text"
      },
      "source": [
        "<a href=\"https://colab.research.google.com/github/nangira/Independent-Project/blob/main/Financial_Inclusion_Independent_Project.ipynb\" target=\"_parent\"><img src=\"https://colab.research.google.com/assets/colab-badge.svg\" alt=\"Open In Colab\"/></a>"
      ]
    },
    {
      "cell_type": "markdown",
      "source": [
        "# **FINANCIAL INCLUSION**"
      ],
      "metadata": {
        "id": "3nP0fEEB5w4k"
      }
    },
    {
      "cell_type": "markdown",
      "source": [
        "## **Introduction**"
      ],
      "metadata": {
        "id": "647jG6FGAjcq"
      }
    },
    {
      "cell_type": "markdown",
      "source": [
        "According to World Bank, **Financial inclusion** means that individuals and businesses have access to useful and affordable financial products and services that meet their needs – transactions, payments, savings, credit and insurance – delivered in a responsible and sustainable way. It is considered as a key enabler to reduce extreme poverty and boost shared prosperity. It is also considered as an enabler for 7 of the 17 Sustainable Development Goals.\n",
        "\n",
        "Financial Inclusion remains one of the main obstacles to economic and human development in Africa. For example, across Kenya, Rwanda, Tanzania, and Uganda only 9.1 million adults (or 13.9% of the adult population) have access to or use a commercial bank account.\n",
        "\n",
        "Traditionally, access to bank accounts has been regarded as an indicator of financial inclusion. Despite the proliferation of mobile money in Africa and the growth of innovative fintech solutions, banks still play a pivotal role in facilitating access to financial services. Access to bank accounts enables households to save and facilitate payments while also helping businesses build up their credit-worthiness and improve their access to other financial services. Therefore, being able to have access to a transaction account is a first step toward broader financial inclusion since a transaction account serves as a gateway to other financial services, which is why ensuring that people worldwide can have access to a transaction account is key.\n"
      ],
      "metadata": {
        "id": "J4iaScPS596n"
      }
    },
    {
      "cell_type": "markdown",
      "source": [
        "Main Question: Does cell phone access have a positive correlation with respondents having a bank account?\n",
        "\n",
        "\n",
        "Research Questions:\n",
        "\n",
        "\n",
        "1.   Which country has most cell phone users with respect to their sample size\n",
        "2.   Which area has more respondents with bank accounts, rural or urban?\n",
        "3.   What is the distribution of level of education depending on gender?\n",
        "4. What is the distribution of bank ownership based on level of education?\n",
        "5.   Which types of jobs do the respondents do based on their bank ownership?\n",
        "\n",
        "\n",
        "\n",
        "\n"
      ],
      "metadata": {
        "id": "tszQKmLSAsZZ"
      }
    },
    {
      "cell_type": "code",
      "execution_count": 2,
      "metadata": {
        "id": "futLsumIyRmY"
      },
      "outputs": [],
      "source": [
        "# First, we shall load the required libraries for this exercise.\n",
        "import numpy as np\n",
        "import pandas as pd\n",
        "import statistics\n",
        "from sklearn.preprocessing import StandardScaler\n",
        "from scipy import stats\n",
        "from statsmodels.stats import weightstats as stests\n",
        "from sklearn.model_selection import train_test_split\n",
        "import matplotlib.pyplot as plt\n",
        "import seaborn as sns"
      ]
    },
    {
      "cell_type": "code",
      "source": [
        "# Loading the dataset\n",
        "\n",
        "dataset = pd.read_csv('Financial Dataset.csv')\n",
        "\n",
        "#viewing the first five entries in our dataset\n",
        "dataset.head()\n",
        "\n",
        "#viewing the last five entries in our dataset\n",
        "dataset.tail()\n",
        "\n",
        "# Renaming one of the columns\n",
        "dataset.columns = dataset.columns.str.replace('The relathip with head', 'The relationship with head')\n",
        "\n",
        "# Changing uniqueid entries to have just the number\n",
        "dataset['uniqueid'] = dataset['uniqueid'].str.replace(r'\\D', '')\n",
        "dataset"
      ],
      "metadata": {
        "colab": {
          "base_uri": "https://localhost:8080/",
          "height": 750
        },
        "id": "aY1UnnZCI_Ru",
        "outputId": "707ae097-3bc2-422d-a448-cd9da8ce2f07"
      },
      "execution_count": 17,
      "outputs": [
        {
          "output_type": "stream",
          "name": "stderr",
          "text": [
            "/usr/local/lib/python3.7/dist-packages/ipykernel_launcher.py:15: FutureWarning: The default value of regex will change from True to False in a future version.\n",
            "  from ipykernel import kernelapp as app\n"
          ]
        },
        {
          "output_type": "execute_result",
          "data": {
            "text/plain": [
              "      country  year uniqueid Has a Bank account Type of Location  \\\n",
              "0       Kenya  2018        1                Yes            Rural   \n",
              "1       Kenya  2018        2                 No            Rural   \n",
              "2       Kenya  2018        3                Yes            Urban   \n",
              "3       Kenya  2018        4                 No            Rural   \n",
              "4       Kenya  2018        5                 No            Urban   \n",
              "...       ...   ...      ...                ...              ...   \n",
              "23519  Uganda  2018     2113                 No            Rural   \n",
              "23520  Uganda  2018     2114                 No            Rural   \n",
              "23521  Uganda  2018     2115                 No            Rural   \n",
              "23522  Uganda  2018     2116                 No            Urban   \n",
              "23523  Uganda  2018     2117                 No            Rural   \n",
              "\n",
              "      Cell Phone Access  household_size  Respondent Age gender_of_respondent  \\\n",
              "0                   Yes             3.0            24.0               Female   \n",
              "1                    No             5.0            70.0               Female   \n",
              "2                   Yes             5.0            26.0                 Male   \n",
              "3                   Yes             5.0            34.0               Female   \n",
              "4                    No             8.0            26.0                 Male   \n",
              "...                 ...             ...             ...                  ...   \n",
              "23519               Yes             4.0            48.0               Female   \n",
              "23520               Yes             2.0            27.0               Female   \n",
              "23521               Yes             5.0            27.0               Female   \n",
              "23522               Yes             7.0            30.0               Female   \n",
              "23523               Yes            10.0            20.0                 Male   \n",
              "\n",
              "      The relationship with head           marital_status  \\\n",
              "0                         Spouse  Married/Living together   \n",
              "1              Head of Household                  Widowed   \n",
              "2                 Other relative     Single/Never Married   \n",
              "3              Head of Household  Married/Living together   \n",
              "4                          Child     Single/Never Married   \n",
              "...                          ...                      ...   \n",
              "23519          Head of Household       Divorced/Seperated   \n",
              "23520          Head of Household     Single/Never Married   \n",
              "23521                     Parent                  Widowed   \n",
              "23522                     Parent       Divorced/Seperated   \n",
              "23523                      Child     Single/Never Married   \n",
              "\n",
              "                   Level of Educuation                Type of Job  \n",
              "0                  Secondary education              Self employed  \n",
              "1                  No formal education       Government Dependent  \n",
              "2      Vocational/Specialised training              Self employed  \n",
              "3                    Primary education  Formally employed Private  \n",
              "4                    Primary education        Informally employed  \n",
              "...                                ...                        ...  \n",
              "23519              No formal education               Other Income  \n",
              "23520              Secondary education               Other Income  \n",
              "23521                Primary education               Other Income  \n",
              "23522              Secondary education              Self employed  \n",
              "23523              Secondary education                  No Income  \n",
              "\n",
              "[23524 rows x 13 columns]"
            ],
            "text/html": [
              "\n",
              "  <div id=\"df-a04f8a75-200f-4dde-b1ff-c8bad3bf6556\">\n",
              "    <div class=\"colab-df-container\">\n",
              "      <div>\n",
              "<style scoped>\n",
              "    .dataframe tbody tr th:only-of-type {\n",
              "        vertical-align: middle;\n",
              "    }\n",
              "\n",
              "    .dataframe tbody tr th {\n",
              "        vertical-align: top;\n",
              "    }\n",
              "\n",
              "    .dataframe thead th {\n",
              "        text-align: right;\n",
              "    }\n",
              "</style>\n",
              "<table border=\"1\" class=\"dataframe\">\n",
              "  <thead>\n",
              "    <tr style=\"text-align: right;\">\n",
              "      <th></th>\n",
              "      <th>country</th>\n",
              "      <th>year</th>\n",
              "      <th>uniqueid</th>\n",
              "      <th>Has a Bank account</th>\n",
              "      <th>Type of Location</th>\n",
              "      <th>Cell Phone Access</th>\n",
              "      <th>household_size</th>\n",
              "      <th>Respondent Age</th>\n",
              "      <th>gender_of_respondent</th>\n",
              "      <th>The relationship with head</th>\n",
              "      <th>marital_status</th>\n",
              "      <th>Level of Educuation</th>\n",
              "      <th>Type of Job</th>\n",
              "    </tr>\n",
              "  </thead>\n",
              "  <tbody>\n",
              "    <tr>\n",
              "      <th>0</th>\n",
              "      <td>Kenya</td>\n",
              "      <td>2018</td>\n",
              "      <td>1</td>\n",
              "      <td>Yes</td>\n",
              "      <td>Rural</td>\n",
              "      <td>Yes</td>\n",
              "      <td>3.0</td>\n",
              "      <td>24.0</td>\n",
              "      <td>Female</td>\n",
              "      <td>Spouse</td>\n",
              "      <td>Married/Living together</td>\n",
              "      <td>Secondary education</td>\n",
              "      <td>Self employed</td>\n",
              "    </tr>\n",
              "    <tr>\n",
              "      <th>1</th>\n",
              "      <td>Kenya</td>\n",
              "      <td>2018</td>\n",
              "      <td>2</td>\n",
              "      <td>No</td>\n",
              "      <td>Rural</td>\n",
              "      <td>No</td>\n",
              "      <td>5.0</td>\n",
              "      <td>70.0</td>\n",
              "      <td>Female</td>\n",
              "      <td>Head of Household</td>\n",
              "      <td>Widowed</td>\n",
              "      <td>No formal education</td>\n",
              "      <td>Government Dependent</td>\n",
              "    </tr>\n",
              "    <tr>\n",
              "      <th>2</th>\n",
              "      <td>Kenya</td>\n",
              "      <td>2018</td>\n",
              "      <td>3</td>\n",
              "      <td>Yes</td>\n",
              "      <td>Urban</td>\n",
              "      <td>Yes</td>\n",
              "      <td>5.0</td>\n",
              "      <td>26.0</td>\n",
              "      <td>Male</td>\n",
              "      <td>Other relative</td>\n",
              "      <td>Single/Never Married</td>\n",
              "      <td>Vocational/Specialised training</td>\n",
              "      <td>Self employed</td>\n",
              "    </tr>\n",
              "    <tr>\n",
              "      <th>3</th>\n",
              "      <td>Kenya</td>\n",
              "      <td>2018</td>\n",
              "      <td>4</td>\n",
              "      <td>No</td>\n",
              "      <td>Rural</td>\n",
              "      <td>Yes</td>\n",
              "      <td>5.0</td>\n",
              "      <td>34.0</td>\n",
              "      <td>Female</td>\n",
              "      <td>Head of Household</td>\n",
              "      <td>Married/Living together</td>\n",
              "      <td>Primary education</td>\n",
              "      <td>Formally employed Private</td>\n",
              "    </tr>\n",
              "    <tr>\n",
              "      <th>4</th>\n",
              "      <td>Kenya</td>\n",
              "      <td>2018</td>\n",
              "      <td>5</td>\n",
              "      <td>No</td>\n",
              "      <td>Urban</td>\n",
              "      <td>No</td>\n",
              "      <td>8.0</td>\n",
              "      <td>26.0</td>\n",
              "      <td>Male</td>\n",
              "      <td>Child</td>\n",
              "      <td>Single/Never Married</td>\n",
              "      <td>Primary education</td>\n",
              "      <td>Informally employed</td>\n",
              "    </tr>\n",
              "    <tr>\n",
              "      <th>...</th>\n",
              "      <td>...</td>\n",
              "      <td>...</td>\n",
              "      <td>...</td>\n",
              "      <td>...</td>\n",
              "      <td>...</td>\n",
              "      <td>...</td>\n",
              "      <td>...</td>\n",
              "      <td>...</td>\n",
              "      <td>...</td>\n",
              "      <td>...</td>\n",
              "      <td>...</td>\n",
              "      <td>...</td>\n",
              "      <td>...</td>\n",
              "    </tr>\n",
              "    <tr>\n",
              "      <th>23519</th>\n",
              "      <td>Uganda</td>\n",
              "      <td>2018</td>\n",
              "      <td>2113</td>\n",
              "      <td>No</td>\n",
              "      <td>Rural</td>\n",
              "      <td>Yes</td>\n",
              "      <td>4.0</td>\n",
              "      <td>48.0</td>\n",
              "      <td>Female</td>\n",
              "      <td>Head of Household</td>\n",
              "      <td>Divorced/Seperated</td>\n",
              "      <td>No formal education</td>\n",
              "      <td>Other Income</td>\n",
              "    </tr>\n",
              "    <tr>\n",
              "      <th>23520</th>\n",
              "      <td>Uganda</td>\n",
              "      <td>2018</td>\n",
              "      <td>2114</td>\n",
              "      <td>No</td>\n",
              "      <td>Rural</td>\n",
              "      <td>Yes</td>\n",
              "      <td>2.0</td>\n",
              "      <td>27.0</td>\n",
              "      <td>Female</td>\n",
              "      <td>Head of Household</td>\n",
              "      <td>Single/Never Married</td>\n",
              "      <td>Secondary education</td>\n",
              "      <td>Other Income</td>\n",
              "    </tr>\n",
              "    <tr>\n",
              "      <th>23521</th>\n",
              "      <td>Uganda</td>\n",
              "      <td>2018</td>\n",
              "      <td>2115</td>\n",
              "      <td>No</td>\n",
              "      <td>Rural</td>\n",
              "      <td>Yes</td>\n",
              "      <td>5.0</td>\n",
              "      <td>27.0</td>\n",
              "      <td>Female</td>\n",
              "      <td>Parent</td>\n",
              "      <td>Widowed</td>\n",
              "      <td>Primary education</td>\n",
              "      <td>Other Income</td>\n",
              "    </tr>\n",
              "    <tr>\n",
              "      <th>23522</th>\n",
              "      <td>Uganda</td>\n",
              "      <td>2018</td>\n",
              "      <td>2116</td>\n",
              "      <td>No</td>\n",
              "      <td>Urban</td>\n",
              "      <td>Yes</td>\n",
              "      <td>7.0</td>\n",
              "      <td>30.0</td>\n",
              "      <td>Female</td>\n",
              "      <td>Parent</td>\n",
              "      <td>Divorced/Seperated</td>\n",
              "      <td>Secondary education</td>\n",
              "      <td>Self employed</td>\n",
              "    </tr>\n",
              "    <tr>\n",
              "      <th>23523</th>\n",
              "      <td>Uganda</td>\n",
              "      <td>2018</td>\n",
              "      <td>2117</td>\n",
              "      <td>No</td>\n",
              "      <td>Rural</td>\n",
              "      <td>Yes</td>\n",
              "      <td>10.0</td>\n",
              "      <td>20.0</td>\n",
              "      <td>Male</td>\n",
              "      <td>Child</td>\n",
              "      <td>Single/Never Married</td>\n",
              "      <td>Secondary education</td>\n",
              "      <td>No Income</td>\n",
              "    </tr>\n",
              "  </tbody>\n",
              "</table>\n",
              "<p>23524 rows × 13 columns</p>\n",
              "</div>\n",
              "      <button class=\"colab-df-convert\" onclick=\"convertToInteractive('df-a04f8a75-200f-4dde-b1ff-c8bad3bf6556')\"\n",
              "              title=\"Convert this dataframe to an interactive table.\"\n",
              "              style=\"display:none;\">\n",
              "        \n",
              "  <svg xmlns=\"http://www.w3.org/2000/svg\" height=\"24px\"viewBox=\"0 0 24 24\"\n",
              "       width=\"24px\">\n",
              "    <path d=\"M0 0h24v24H0V0z\" fill=\"none\"/>\n",
              "    <path d=\"M18.56 5.44l.94 2.06.94-2.06 2.06-.94-2.06-.94-.94-2.06-.94 2.06-2.06.94zm-11 1L8.5 8.5l.94-2.06 2.06-.94-2.06-.94L8.5 2.5l-.94 2.06-2.06.94zm10 10l.94 2.06.94-2.06 2.06-.94-2.06-.94-.94-2.06-.94 2.06-2.06.94z\"/><path d=\"M17.41 7.96l-1.37-1.37c-.4-.4-.92-.59-1.43-.59-.52 0-1.04.2-1.43.59L10.3 9.45l-7.72 7.72c-.78.78-.78 2.05 0 2.83L4 21.41c.39.39.9.59 1.41.59.51 0 1.02-.2 1.41-.59l7.78-7.78 2.81-2.81c.8-.78.8-2.07 0-2.86zM5.41 20L4 18.59l7.72-7.72 1.47 1.35L5.41 20z\"/>\n",
              "  </svg>\n",
              "      </button>\n",
              "      \n",
              "  <style>\n",
              "    .colab-df-container {\n",
              "      display:flex;\n",
              "      flex-wrap:wrap;\n",
              "      gap: 12px;\n",
              "    }\n",
              "\n",
              "    .colab-df-convert {\n",
              "      background-color: #E8F0FE;\n",
              "      border: none;\n",
              "      border-radius: 50%;\n",
              "      cursor: pointer;\n",
              "      display: none;\n",
              "      fill: #1967D2;\n",
              "      height: 32px;\n",
              "      padding: 0 0 0 0;\n",
              "      width: 32px;\n",
              "    }\n",
              "\n",
              "    .colab-df-convert:hover {\n",
              "      background-color: #E2EBFA;\n",
              "      box-shadow: 0px 1px 2px rgba(60, 64, 67, 0.3), 0px 1px 3px 1px rgba(60, 64, 67, 0.15);\n",
              "      fill: #174EA6;\n",
              "    }\n",
              "\n",
              "    [theme=dark] .colab-df-convert {\n",
              "      background-color: #3B4455;\n",
              "      fill: #D2E3FC;\n",
              "    }\n",
              "\n",
              "    [theme=dark] .colab-df-convert:hover {\n",
              "      background-color: #434B5C;\n",
              "      box-shadow: 0px 1px 3px 1px rgba(0, 0, 0, 0.15);\n",
              "      filter: drop-shadow(0px 1px 2px rgba(0, 0, 0, 0.3));\n",
              "      fill: #FFFFFF;\n",
              "    }\n",
              "  </style>\n",
              "\n",
              "      <script>\n",
              "        const buttonEl =\n",
              "          document.querySelector('#df-a04f8a75-200f-4dde-b1ff-c8bad3bf6556 button.colab-df-convert');\n",
              "        buttonEl.style.display =\n",
              "          google.colab.kernel.accessAllowed ? 'block' : 'none';\n",
              "\n",
              "        async function convertToInteractive(key) {\n",
              "          const element = document.querySelector('#df-a04f8a75-200f-4dde-b1ff-c8bad3bf6556');\n",
              "          const dataTable =\n",
              "            await google.colab.kernel.invokeFunction('convertToInteractive',\n",
              "                                                     [key], {});\n",
              "          if (!dataTable) return;\n",
              "\n",
              "          const docLinkHtml = 'Like what you see? Visit the ' +\n",
              "            '<a target=\"_blank\" href=https://colab.research.google.com/notebooks/data_table.ipynb>data table notebook</a>'\n",
              "            + ' to learn more about interactive tables.';\n",
              "          element.innerHTML = '';\n",
              "          dataTable['output_type'] = 'display_data';\n",
              "          await google.colab.output.renderOutput(dataTable, element);\n",
              "          const docLink = document.createElement('div');\n",
              "          docLink.innerHTML = docLinkHtml;\n",
              "          element.appendChild(docLink);\n",
              "        }\n",
              "      </script>\n",
              "    </div>\n",
              "  </div>\n",
              "  "
            ]
          },
          "metadata": {},
          "execution_count": 17
        }
      ]
    },
    {
      "cell_type": "code",
      "source": [
        "# Checking how many entries we have in total\n",
        "dataset.shape\n",
        "\n",
        "# Checking the data types of the columns in our dataset\n",
        "dataset.dtypes\n",
        "\n",
        "# Checking for missing data\n",
        "print(dataset.isna().sum())\n",
        "\n",
        "# Removing missing values from our dataset\n",
        "data = dataset.dropna()\n",
        "\n",
        "# Confirming there are no more missing values in our dataset\n",
        "print(data.isna().sum())\n",
        "\n",
        "# Seeing how many entries we now have in the dataset\n",
        "data.shape\n"
      ],
      "metadata": {
        "colab": {
          "base_uri": "https://localhost:8080/"
        },
        "id": "_14dtXRCM13c",
        "outputId": "d4262dda-eb24-4af4-ab98-fe8a2742b223"
      },
      "execution_count": 7,
      "outputs": [
        {
          "output_type": "stream",
          "name": "stdout",
          "text": [
            "country                       14\n",
            "year                           0\n",
            "uniqueid                       0\n",
            "Has a Bank account            36\n",
            "Type of Location              15\n",
            "Cell Phone Access             11\n",
            "household_size                28\n",
            "Respondent Age                34\n",
            "gender_of_respondent          34\n",
            "The relationship with head     4\n",
            "marital_status                32\n",
            "Level of Educuation           29\n",
            "Type of Job                   30\n",
            "dtype: int64\n",
            "country                       0\n",
            "year                          0\n",
            "uniqueid                      0\n",
            "Has a Bank account            0\n",
            "Type of Location              0\n",
            "Cell Phone Access             0\n",
            "household_size                0\n",
            "Respondent Age                0\n",
            "gender_of_respondent          0\n",
            "The relationship with head    0\n",
            "marital_status                0\n",
            "Level of Educuation           0\n",
            "Type of Job                   0\n",
            "dtype: int64\n"
          ]
        },
        {
          "output_type": "execute_result",
          "data": {
            "text/plain": [
              "(23343, 13)"
            ]
          },
          "metadata": {},
          "execution_count": 7
        }
      ]
    },
    {
      "cell_type": "markdown",
      "source": [
        "The dataset had 23,524 entries with 13 columns. The column data types are a mix of numerical and categorical values. 12 out of the 13 columns have missing data.\n",
        "\n",
        "After dropping the missing data, our dataset now has 23,343 rows and 13 columns.\n"
      ],
      "metadata": {
        "id": "UZOo4xy7JJ30"
      }
    },
    {
      "cell_type": "markdown",
      "source": [
        "## **Data Validation**\n",
        "\n",
        "Here, we shall use data from *Financial Sector Deepening Kenya* (FSD Kenya) which is an independent trust dedicated to the achievement of a financial system that delivers value for a green and inclusive digital economy while improving financial health and capability for women and micro and small enterprises (MSEs).\n",
        "\n",
        "We shall also use reports from Finscope Rwanda, Tanzania and Uganda to validate the data.\n",
        "\n",
        "The data is from their annual reports for the countries being considered in this study i.e. The 2018 annual report for Kenya and Uganda, the 2017 and 2016 reports for Tanzania and Rwanda, respectively.\n",
        "\n",
        "We shall validate the data by checking the following:\n",
        "Correct data types,\n",
        "No invalid values,\n",
        "Data is not out of range,\n",
        "It's complete, such as making sure all required form fields have data"
      ],
      "metadata": {
        "id": "ReAhuyGunaDw"
      }
    },
    {
      "cell_type": "markdown",
      "source": [
        "***Variable Definitions:***\n",
        "\n",
        "**Country** - Country interviewee is in.\n",
        "\n",
        "**Year** - Year survey was done in.\n",
        "\n",
        "**uniqueid** - Unique identifier for each interviewee\n",
        "\n",
        "**location_type** - Type of location: Rural, Urban\n",
        "\n",
        "**cellphone_access** - If interviewee has access to a cellphone: Yes, No\n",
        "\n",
        "**household_size** - Number of people living in one house\n",
        "\n",
        "**age_of_respondent** - The age of the interviewee\n",
        "\n",
        "**gender_of_respondent** - Gender of interviewee: Male, Female\n",
        "\n",
        "**relationship_with_head** - The interviewee's relationship with the head of the house i.e Head of Household, Spouse, Child, Parent, Other relative, Other non-relatives, Dont know\n",
        "\n",
        "**marital_status** - The martial status of the interviewee: Married/Living together, Divorced/Seperated, Widowed, Single/Never Married, Don't know\n",
        "\n",
        "**education_level** - Highest level of education: No formal education, Primary education, Secondary education, Vocational/Specialised training, Tertiary education, Other/Dont know/RTA\n",
        "\n",
        "**job_type** - Type of job interviewee has: Farming and Fishing, Self employed, Formally employed Government, Formally employed Private, Informally employed, Remittance Dependent, Government Dependent, Other Income, No Income, Dont Know/Refuse to answer\n",
        "\n",
        "\n",
        "\n"
      ],
      "metadata": {
        "id": "rg7vmgpdl5GP"
      }
    },
    {
      "cell_type": "markdown",
      "source": [
        "## **Exploratory Data Analysis**"
      ],
      "metadata": {
        "id": "RSzIrbh9g-Dk"
      }
    },
    {
      "cell_type": "code",
      "source": [
        "# Using value_counts() so that the chart plots the number of respondents per category\n",
        "\n",
        "\n",
        "data[['country', 'Cell Phone Access']].plot(kind='bar', figsize=(8, 6))\n",
        "\n",
        "# Rotating our x axis ticks\n",
        "plt.xticks(rotation = 45)\n",
        "\n",
        "# Giving our chart a title\n",
        "plt.title(\"Cellphone owners per country\", fontsize=14, y=1.015)\n",
        "\n",
        "# Labeling our y axis\n",
        "plt.ylabel(\"Cellphone owner\", fontsize=14, labelpad=15)\n",
        "\n",
        "# Labeling our x axis\n",
        "plt.xlabel(\"Country\", fontsize=14, labelpad=15)\n",
        "\n",
        "# Displaying our chart\n",
        "\n",
        "plt.show()"
      ],
      "metadata": {
        "id": "WfqjlZHirdYQ"
      },
      "execution_count": null,
      "outputs": []
    },
    {
      "cell_type": "markdown",
      "source": [
        "### **Univariate Analysis**"
      ],
      "metadata": {
        "id": "QLkBSkbmgf0P"
      }
    },
    {
      "cell_type": "markdown",
      "source": [
        "**Numeric Columns**"
      ],
      "metadata": {
        "id": "FaOUwEo3CRdd"
      }
    },
    {
      "cell_type": "code",
      "source": [
        "# The survey was taking record of data from the following years\n",
        "data['year'].unique()\n",
        "\n",
        "# Creating a list of the other two numeric variables; household size and respondent age:\n",
        "numeric_variables = data[['household_size', 'Respondent Age']]\n",
        "\n",
        "# Checking the mode for each numeric variable\n",
        "statistics.mode(data['household_size'])\n",
        "statistics.mode(data['Respondent Age'])\n",
        "\n",
        "# Viewing the count, mean, standard deviation,variance, minimum and maximum values and the skewness and kurtosis measures of the numeric variables\n",
        "print(numeric_variables.apply([\"count\",\"mean\",\"std\",\"var\" ,\"median\", \"max\",\"min\", \"skew\", \"kurt\"]))\n",
        "\n",
        "# range of values (maximum - minimum)value\n",
        "size_maximum = max(data['household_size'])\n",
        "size_minimum = min(data['household_size']) \n",
        "\n",
        "size_range = size_maximum - size_minimum\n",
        "\n",
        "age_maximum = max(data['Respondent Age'])\n",
        "age_minimum = min(data['Respondent Age']) \n",
        "\n",
        "age_range = age_maximum - age_minimum\n",
        "\n",
        "print(\"The household size variable range for the values is\", size_range, \"while that of the Respondent Age variable is\", age_range)"
      ],
      "metadata": {
        "colab": {
          "base_uri": "https://localhost:8080/"
        },
        "id": "yWQQ0q_q3vg_",
        "outputId": "6619b7b5-cc4d-4330-e849-541f589423d3"
      },
      "execution_count": 4,
      "outputs": [
        {
          "output_type": "stream",
          "name": "stdout",
          "text": [
            "        household_size  Respondent Age\n",
            "count     23343.000000    23343.000000\n",
            "mean          3.688643       38.805509\n",
            "std           2.281184       16.519803\n",
            "var           5.203798      272.903908\n",
            "median        3.000000       35.000000\n",
            "max          21.000000      100.000000\n",
            "min           0.000000       16.000000\n",
            "skew          0.974109        0.840662\n",
            "kurt          1.153869        0.098447\n",
            "The household size variable range for the values is 21.0 while that of the Respondent Age variable is 84.0\n"
          ]
        }
      ]
    },
    {
      "cell_type": "markdown",
      "source": [
        "The output on the numeric variables shows us the count, mean, standard deviation, variance, median, maximum and minimum values, skewness and kurtosis measures. Below is an explanation for each measure to help interpret the output for each variable.\n",
        "\n",
        "The **mean** represents the average of the data points recorded in each variable and is attained by dividing the sum of all values in a variable by the count, excluding missing values.\n",
        "\n",
        "**Standard deviation** and **variance** are measures of dispersion. The closer the values are to zero, the more clustered the data points are around the mean else they are spread out. The higher the value, the more spread out they are.\n",
        "\n",
        "The **median** represents the value in the middle once the data is arranged in ascending order.\n",
        "\n",
        "The **mode** represents the value that occurred most times.\n",
        "\n",
        "The **maximum** and **minimum** values are the highest and lowest recorded values in a variable\n",
        "\n",
        "**Skewness** is a statistical measure of asymmetric distribution of data. A negative skew indicates that the tail is on the left side of the distribution, which extends towards more negative values. A positive skew indicates that the tail is on the right side of the distribution, which extends towards more positive values. A value of zero indicates that there is no skewness in the distribution at all, meaning the distribution is perfectly symmetrical.\n",
        "\n",
        "**Kurtosis** helps determine if the distribution is heavy-tailed compared to a normal distribution. The kurtosis of a normal distribution is 3. If a given distribution has a kurtosis greater than 3 then it is said to be leptokurtic, which means it tends to produce more outliers than the normal distribution. If it's less than 3, it means it tends to produce fewer and less extreme outliers than the normal distribution.\n",
        "\n",
        "**Range** is an index of variability. When the range is more the group is more variable. The smaller the range the more homogeneous is the group.\n",
        "\n",
        "The data was collected in the years 2016,2017,2018. 2029,2056 and 2039 were anomalies."
      ],
      "metadata": {
        "id": "97D9WzSOMtiU"
      }
    },
    {
      "cell_type": "code",
      "source": [
        "# Checking the 0.25,0.50 and 0.75 quantiles\n",
        "\n",
        "quantiles = numeric_variables.quantile([.25,.5,.75])\n",
        "quantiles\n",
        "\n",
        "# Calculating the interquantile range\n",
        "\n",
        "interquantile_range = numeric_variables.quantile(.75) - numeric_variables.quantile(.25)\n",
        "interquantile_range\n"
      ],
      "metadata": {
        "colab": {
          "base_uri": "https://localhost:8080/"
        },
        "id": "dOk-vxNjrxth",
        "outputId": "6b855c22-840e-470b-ec7b-c71daf77b8f0"
      },
      "execution_count": 7,
      "outputs": [
        {
          "output_type": "execute_result",
          "data": {
            "text/plain": [
              "household_size     3.0\n",
              "Respondent Age    23.0\n",
              "dtype: float64"
            ]
          },
          "metadata": {},
          "execution_count": 7
        }
      ]
    },
    {
      "cell_type": "markdown",
      "source": [
        "25% of the entries under household size fall under 2 while for the Respondent's Age, it's 26 years old.\n",
        "\n",
        "50% of the household size data points fall under 3, while for Respondent Age, they fall under 35 years old.\n",
        "\n",
        "75% of the household size entries fall under 5 while for Respondent's age, it's 49 years old.\n",
        "\n",
        "The interquantile range for household size is 3, meaning the values are clustered around the mean while that of Respondent Age is 23 meaning the data is more spread out."
      ],
      "metadata": {
        "id": "xognubNvD78B"
      }
    },
    {
      "cell_type": "code",
      "source": [
        "# Plotting boxplots to check for outliers\n",
        "\n",
        "fig, (ax1,ax2, ax3) = plt.subplots(1, 3, figsize=(17,5 ))\n",
        "plt.suptitle('Boxplots', fontsize = 15, y = 0.92, color = 'black')\n",
        "sns.boxplot(data['year'], ax=ax1, color = \"teal\")\n",
        "sns.boxplot(data['household_size'], ax=ax2, color = \"green\")\n",
        "sns.boxplot(data['Respondent Age'], ax=ax3, color = \"orange\")\n",
        "plt.show()"
      ],
      "metadata": {
        "colab": {
          "base_uri": "https://localhost:8080/",
          "height": 479
        },
        "id": "QbTCPwRhS0S4",
        "outputId": "ebf345cd-4644-427b-f643-9a49ed1466cf"
      },
      "execution_count": 6,
      "outputs": [
        {
          "output_type": "stream",
          "name": "stderr",
          "text": [
            "/usr/local/lib/python3.7/dist-packages/seaborn/_decorators.py:43: FutureWarning: Pass the following variable as a keyword arg: x. From version 0.12, the only valid positional argument will be `data`, and passing other arguments without an explicit keyword will result in an error or misinterpretation.\n",
            "  FutureWarning\n",
            "/usr/local/lib/python3.7/dist-packages/seaborn/_decorators.py:43: FutureWarning: Pass the following variable as a keyword arg: x. From version 0.12, the only valid positional argument will be `data`, and passing other arguments without an explicit keyword will result in an error or misinterpretation.\n",
            "  FutureWarning\n",
            "/usr/local/lib/python3.7/dist-packages/seaborn/_decorators.py:43: FutureWarning: Pass the following variable as a keyword arg: x. From version 0.12, the only valid positional argument will be `data`, and passing other arguments without an explicit keyword will result in an error or misinterpretation.\n",
            "  FutureWarning\n"
          ]
        },
        {
          "output_type": "display_data",
          "data": {
            "text/plain": [
              "<Figure size 1224x360 with 3 Axes>"
            ],
            "image/png": "[encoded data removed]"
          },
          "metadata": {
            "needs_background": "light"
          }
        }
      ]
    },
    {
      "cell_type": "markdown",
      "source": [
        "There were outliers for all three numeric variables. For the outliers in years, we shall take them as data entry erros, for houehold size and age, we shall assign all extreme values their respective modes.\n"
      ],
      "metadata": {
        "id": "a9MYTsF1eCi5"
      }
    },
    {
      "cell_type": "code",
      "source": [
        "# Generating a histogram for each of the numeric variables\n",
        "\n",
        "fig, (hist1,hist2, hist3) = plt.subplots(1, 3, figsize=(17, 5))\n",
        "plt.suptitle('Histograms', fontsize = 15, y = 0.92, color = 'black')\n",
        "data['year'].hist(ax=hist1, color = \"teal\")\n",
        "data['household_size'].hist(ax=hist2, color = \"green\")\n",
        "data['Respondent Age'].hist(ax=hist3, color = \"orange\")\n",
        "\n",
        "\n",
        "plt.show()"
      ],
      "metadata": {
        "colab": {
          "base_uri": "https://localhost:8080/",
          "height": 334
        },
        "id": "EiUSdy0y8xBu",
        "outputId": "51640e63-5d16-4215-f370-ea61dc852af8"
      },
      "execution_count": 8,
      "outputs": [
        {
          "output_type": "display_data",
          "data": {
            "text/plain": [
              "<Figure size 1224x360 with 3 Axes>"
            ],
            "image/png": "[encoded data removed]"
          },
          "metadata": {
            "needs_background": "light"
          }
        }
      ]
    },
    {
      "cell_type": "markdown",
      "source": [
        "The above histograms show how the numeric variables data is distributed starting with the years, then household size and lastly, Respondent Age."
      ],
      "metadata": {
        "id": "30vzGxnuUzCE"
      }
    },
    {
      "cell_type": "code",
      "source": [
        "# Ploting the bivariate summaries and recording our observations\n",
        "sns.pairplot(data)"
      ],
      "metadata": {
        "colab": {
          "base_uri": "https://localhost:8080/",
          "height": 568
        },
        "id": "MIZuOoGq5RoW",
        "outputId": "2bddc878-1bad-4da2-9959-962a10d87dbb"
      },
      "execution_count": 9,
      "outputs": [
        {
          "output_type": "execute_result",
          "data": {
            "text/plain": [
              "<seaborn.axisgrid.PairGrid at 0x7f776b369710>"
            ]
          },
          "metadata": {},
          "execution_count": 9
        },
        {
          "output_type": "display_data",
          "data": {
            "text/plain": [
              "<Figure size 540x540 with 12 Axes>"
            ],
            "image/png": "[encoded data removed]"
          },
          "metadata": {
            "needs_background": "light"
          }
        }
      ]
    },
    {
      "cell_type": "markdown",
      "source": [
        "The above shows a multiple pairwise bivariate distributions in our dataset."
      ],
      "metadata": {
        "id": "S4-SftrNr9ED"
      }
    },
    {
      "cell_type": "code",
      "source": [
        "# Plotting a correlation heat map\n",
        "sns.heatmap(data.corr(),annot=True)\n",
        "plt.show()"
      ],
      "metadata": {
        "colab": {
          "base_uri": "https://localhost:8080/",
          "height": 270
        },
        "id": "0OwtXeTd8iv1",
        "outputId": "79aba32b-0d80-468b-c439-8693ee2224cd"
      },
      "execution_count": 10,
      "outputs": [
        {
          "output_type": "display_data",
          "data": {
            "text/plain": [
              "<Figure size 432x288 with 2 Axes>"
            ],
            "image/png": "[encoded data removed]"
          },
          "metadata": {
            "needs_background": "light"
          }
        }
      ]
    },
    {
      "cell_type": "markdown",
      "source": [
        "The heatmap shows that all the numeric variables have a negative correlation with each other. \n",
        "\n",
        "This means that as the years progressed, Respondent's Age and household size decreased.\n",
        "\n",
        "As the household size increased, the Respondent's Age reduced and the size was bigger in the earlier years."
      ],
      "metadata": {
        "id": "_XeRjZ7XPrzh"
      }
    },
    {
      "cell_type": "code",
      "source": [
        "# Before dealing with outliers, let's first check for duplicates.\n",
        "\n",
        "duplicates = data[data.duplicated()]\n",
        "duplicates.shape\n",
        "\n",
        "# no rows had duplicates\n",
        "\n",
        "# Checking how many respondents fall under each year\n",
        "year_table = data['year'].value_counts()\n",
        "print(year_table)\n",
        "\n",
        "# Using the data provided from FSD Kenya for validation, we note that each country had data from a specific year, i.e Kenya & Uganda - 2018,\n",
        "# Tanzania - 2017 and Rwanda - 2016\n",
        "# We shall first group the year data by country and confirm the above using crosstab() thus creating a frequency table\n",
        "\n",
        "pd.crosstab(data['country'], data['year'])\n",
        "\n",
        "# We can now reassign the outliers to the respective years since it's been confirmed that all data entries for Kenya were for \n",
        "# the year 2018, except for 2 entries (2029 and 2056) while Rwanda's entries were all recorded in 2016 except 1 (2039)\n",
        "# For Uganda and Tanzania, the dataset corresponds with the data from FSD Kenya as it's from 2018 and 2017 respectively.\n",
        "\n",
        "# We shall therefore assign the year outliers in Kenya to 2018 and the outlier from Rwanda to 2016 using to_replace() which works on str, regex or numeric objects\n",
        "data.replace(to_replace=[2029, 2056, 2039],\n",
        "           value= [2018, 2018, 2016], \n",
        "           inplace=True)\n",
        "\n",
        "# Checking the years in the cleaned dataset\n",
        "pd.crosstab(data['country'],data['year'])\n"
      ],
      "metadata": {
        "colab": {
          "base_uri": "https://localhost:8080/",
          "height": 445
        },
        "id": "Ky6v-VGeeU17",
        "outputId": "77150edf-8054-4193-97d9-98e642b34312"
      },
      "execution_count": 11,
      "outputs": [
        {
          "output_type": "stream",
          "name": "stdout",
          "text": [
            "2016    8683\n",
            "2018    8157\n",
            "2017    6500\n",
            "2029       1\n",
            "2056       1\n",
            "2039       1\n",
            "Name: year, dtype: int64\n"
          ]
        },
        {
          "output_type": "stream",
          "name": "stderr",
          "text": [
            "/usr/local/lib/python3.7/dist-packages/pandas/core/frame.py:5244: SettingWithCopyWarning: \n",
            "A value is trying to be set on a copy of a slice from a DataFrame\n",
            "\n",
            "See the caveats in the documentation: https://pandas.pydata.org/pandas-docs/stable/user_guide/indexing.html#returning-a-view-versus-a-copy\n",
            "  method=method,\n"
          ]
        },
        {
          "output_type": "execute_result",
          "data": {
            "text/plain": [
              "year      2016  2017  2018\n",
              "country                   \n",
              "Kenya        0     0  6064\n",
              "Rwanda    8684     0     0\n",
              "Tanzania     0  6500     0\n",
              "Uganda       0     0  2095"
            ],
            "text/html": [
              "\n",
              "  <div id=\"df-e44a149e-f436-4b11-87c4-bab8a33a6f0c\">\n",
              "    <div class=\"colab-df-container\">\n",
              "      <div>\n",
              "<style scoped>\n",
              "    .dataframe tbody tr th:only-of-type {\n",
              "        vertical-align: middle;\n",
              "    }\n",
              "\n",
              "    .dataframe tbody tr th {\n",
              "        vertical-align: top;\n",
              "    }\n",
              "\n",
              "    .dataframe thead th {\n",
              "        text-align: right;\n",
              "    }\n",
              "</style>\n",
              "<table border=\"1\" class=\"dataframe\">\n",
              "  <thead>\n",
              "    <tr style=\"text-align: right;\">\n",
              "      <th>year</th>\n",
              "      <th>2016</th>\n",
              "      <th>2017</th>\n",
              "      <th>2018</th>\n",
              "    </tr>\n",
              "    <tr>\n",
              "      <th>country</th>\n",
              "      <th></th>\n",
              "      <th></th>\n",
              "      <th></th>\n",
              "    </tr>\n",
              "  </thead>\n",
              "  <tbody>\n",
              "    <tr>\n",
              "      <th>Kenya</th>\n",
              "      <td>0</td>\n",
              "      <td>0</td>\n",
              "      <td>6064</td>\n",
              "    </tr>\n",
              "    <tr>\n",
              "      <th>Rwanda</th>\n",
              "      <td>8684</td>\n",
              "      <td>0</td>\n",
              "      <td>0</td>\n",
              "    </tr>\n",
              "    <tr>\n",
              "      <th>Tanzania</th>\n",
              "      <td>0</td>\n",
              "      <td>6500</td>\n",
              "      <td>0</td>\n",
              "    </tr>\n",
              "    <tr>\n",
              "      <th>Uganda</th>\n",
              "      <td>0</td>\n",
              "      <td>0</td>\n",
              "      <td>2095</td>\n",
              "    </tr>\n",
              "  </tbody>\n",
              "</table>\n",
              "</div>\n",
              "      <button class=\"colab-df-convert\" onclick=\"convertToInteractive('df-e44a149e-f436-4b11-87c4-bab8a33a6f0c')\"\n",
              "              title=\"Convert this dataframe to an interactive table.\"\n",
              "              style=\"display:none;\">\n",
              "        \n",
              "  <svg xmlns=\"http://www.w3.org/2000/svg\" height=\"24px\"viewBox=\"0 0 24 24\"\n",
              "       width=\"24px\">\n",
              "    <path d=\"M0 0h24v24H0V0z\" fill=\"none\"/>\n",
              "    <path d=\"M18.56 5.44l.94 2.06.94-2.06 2.06-.94-2.06-.94-.94-2.06-.94 2.06-2.06.94zm-11 1L8.5 8.5l.94-2.06 2.06-.94-2.06-.94L8.5 2.5l-.94 2.06-2.06.94zm10 10l.94 2.06.94-2.06 2.06-.94-2.06-.94-.94-2.06-.94 2.06-2.06.94z\"/><path d=\"M17.41 7.96l-1.37-1.37c-.4-.4-.92-.59-1.43-.59-.52 0-1.04.2-1.43.59L10.3 9.45l-7.72 7.72c-.78.78-.78 2.05 0 2.83L4 21.41c.39.39.9.59 1.41.59.51 0 1.02-.2 1.41-.59l7.78-7.78 2.81-2.81c.8-.78.8-2.07 0-2.86zM5.41 20L4 18.59l7.72-7.72 1.47 1.35L5.41 20z\"/>\n",
              "  </svg>\n",
              "      </button>\n",
              "      \n",
              "  <style>\n",
              "    .colab-df-container {\n",
              "      display:flex;\n",
              "      flex-wrap:wrap;\n",
              "      gap: 12px;\n",
              "    }\n",
              "\n",
              "    .colab-df-convert {\n",
              "      background-color: #E8F0FE;\n",
              "      border: none;\n",
              "      border-radius: 50%;\n",
              "      cursor: pointer;\n",
              "      display: none;\n",
              "      fill: #1967D2;\n",
              "      height: 32px;\n",
              "      padding: 0 0 0 0;\n",
              "      width: 32px;\n",
              "    }\n",
              "\n",
              "    .colab-df-convert:hover {\n",
              "      background-color: #E2EBFA;\n",
              "      box-shadow: 0px 1px 2px rgba(60, 64, 67, 0.3), 0px 1px 3px 1px rgba(60, 64, 67, 0.15);\n",
              "      fill: #174EA6;\n",
              "    }\n",
              "\n",
              "    [theme=dark] .colab-df-convert {\n",
              "      background-color: #3B4455;\n",
              "      fill: #D2E3FC;\n",
              "    }\n",
              "\n",
              "    [theme=dark] .colab-df-convert:hover {\n",
              "      background-color: #434B5C;\n",
              "      box-shadow: 0px 1px 3px 1px rgba(0, 0, 0, 0.15);\n",
              "      filter: drop-shadow(0px 1px 2px rgba(0, 0, 0, 0.3));\n",
              "      fill: #FFFFFF;\n",
              "    }\n",
              "  </style>\n",
              "\n",
              "      <script>\n",
              "        const buttonEl =\n",
              "          document.querySelector('#df-e44a149e-f436-4b11-87c4-bab8a33a6f0c button.colab-df-convert');\n",
              "        buttonEl.style.display =\n",
              "          google.colab.kernel.accessAllowed ? 'block' : 'none';\n",
              "\n",
              "        async function convertToInteractive(key) {\n",
              "          const element = document.querySelector('#df-e44a149e-f436-4b11-87c4-bab8a33a6f0c');\n",
              "          const dataTable =\n",
              "            await google.colab.kernel.invokeFunction('convertToInteractive',\n",
              "                                                     [key], {});\n",
              "          if (!dataTable) return;\n",
              "\n",
              "          const docLinkHtml = 'Like what you see? Visit the ' +\n",
              "            '<a target=\"_blank\" href=https://colab.research.google.com/notebooks/data_table.ipynb>data table notebook</a>'\n",
              "            + ' to learn more about interactive tables.';\n",
              "          element.innerHTML = '';\n",
              "          dataTable['output_type'] = 'display_data';\n",
              "          await google.colab.output.renderOutput(dataTable, element);\n",
              "          const docLink = document.createElement('div');\n",
              "          docLink.innerHTML = docLinkHtml;\n",
              "          element.appendChild(docLink);\n",
              "        }\n",
              "      </script>\n",
              "    </div>\n",
              "  </div>\n",
              "  "
            ]
          },
          "metadata": {},
          "execution_count": 11
        }
      ]
    },
    {
      "cell_type": "code",
      "source": [
        "# Dealing with outliers in Respondent Age and Household size variables\n",
        "# For household size, the maximum entry recorded was 21 which is extreme\n",
        "# We shall identify outliers using the formulae: Upper boundary = Q3 +1.5*IQR and Lower boundary = Q1 – 1.5*IQR\n",
        "\n",
        "# Generating a frequency table for household size and the relationship the respondent has to the household head to visualize how the data is distributed\n",
        "\n",
        "table = pd.crosstab(data['The relationship with head'], data['household_size'])\n",
        "\n",
        "Q1_hseholdsize = data['household_size'].quantile(.25)\n",
        "Q3_hseholdsize = data['household_size'].quantile(.75)\n",
        "IQR_hseholdsize = Q3_hseholdsize - Q1_hseholdsize\n",
        "\n",
        "size_upper_boundary = Q3_hseholdsize + 1.5*IQR_hseholdsize\n",
        "size_lower_boundary = Q1_hseholdsize - 1.5*IQR_hseholdsize\n",
        "\n",
        "print(\"Our household size upper boundary is\", size_upper_boundary, \"and the lower boundary is\", size_lower_boundary)\n",
        "\n",
        "# Replacing  the data points that lie outside of the lower and the upper bound with a NULL value.\n",
        "for x in ['household_size']:\n",
        "    data.loc[data[x] < size_lower_boundary,x] = np.nan\n",
        "    data.loc[data[x] > size_upper_boundary,x] = np.nan\n",
        "\n",
        "# We shall now assign the null values the median of the variable since it was skewed\n",
        "\n",
        "size_median = data['household_size'].median()\n",
        "size_median\n",
        "data['household_size'].fillna(data['household_size'].median(),inplace = True)\n",
        "\n",
        "data.isna().sum()"
      ],
      "metadata": {
        "colab": {
          "base_uri": "https://localhost:8080/"
        },
        "id": "i_XDJRr5sBiI",
        "outputId": "262d20ad-b875-4386-f23b-8ab4238abe86"
      },
      "execution_count": 12,
      "outputs": [
        {
          "output_type": "stream",
          "name": "stdout",
          "text": [
            "Our household size upper boundary is 9.5 and the lower boundary is -2.5\n"
          ]
        },
        {
          "output_type": "stream",
          "name": "stderr",
          "text": [
            "/usr/local/lib/python3.7/dist-packages/pandas/core/indexing.py:1817: SettingWithCopyWarning: \n",
            "A value is trying to be set on a copy of a slice from a DataFrame.\n",
            "Try using .loc[row_indexer,col_indexer] = value instead\n",
            "\n",
            "See the caveats in the documentation: https://pandas.pydata.org/pandas-docs/stable/user_guide/indexing.html#returning-a-view-versus-a-copy\n",
            "  self._setitem_single_column(loc, value, pi)\n",
            "/usr/local/lib/python3.7/dist-packages/pandas/core/generic.py:6392: SettingWithCopyWarning: \n",
            "A value is trying to be set on a copy of a slice from a DataFrame\n",
            "\n",
            "See the caveats in the documentation: https://pandas.pydata.org/pandas-docs/stable/user_guide/indexing.html#returning-a-view-versus-a-copy\n",
            "  return self._update_inplace(result)\n"
          ]
        },
        {
          "output_type": "execute_result",
          "data": {
            "text/plain": [
              "country                       0\n",
              "year                          0\n",
              "uniqueid                      0\n",
              "Has a Bank account            0\n",
              "Type of Location              0\n",
              "Cell Phone Access             0\n",
              "household_size                0\n",
              "Respondent Age                0\n",
              "gender_of_respondent          0\n",
              "The relationship with head    0\n",
              "marital_status                0\n",
              "Level of Educuation           0\n",
              "Type of Job                   0\n",
              "dtype: int64"
            ]
          },
          "metadata": {},
          "execution_count": 12
        }
      ]
    },
    {
      "cell_type": "code",
      "source": [
        "# Checking for outliers in respondent's age using the interquartile range (IQR)\n",
        "# First we calculate the lower (Q1) and upper(Q3) bounds\n",
        "\n",
        "Q1_age = data['Respondent Age'].quantile(.25)\n",
        "Q3_age = data['Respondent Age'].quantile(.75)\n",
        "\n",
        "# Now we calculate the IQR\n",
        "IQR_age = Q3_age - Q1_age\n",
        "\n",
        "age_upper_boundary = Q3_age + 1.5*IQR_age\n",
        "age_lower_boundary = Q1_age - 1.5*IQR_age\n",
        "\n",
        "print(\"Our Respondent Age upper boundary is\", age_upper_boundary, \"and the lower boundary is\", age_lower_boundary)\n",
        "\n",
        "# Replacing  the data points that lie outside of the lower and the upper bound with a NULL value.\n",
        "for x in ['Respondent Age']:\n",
        "    data.loc[data[x] < age_lower_boundary,x] = np.nan\n",
        "    data.loc[data[x] > age_upper_boundary,x] = np.nan\n",
        "\n",
        "# We shall now assign the null values the median of the variable since it was skewed\n",
        "\n",
        "age_median = data['Respondent Age'].median()\n",
        "age_median\n",
        "\n",
        "data['Respondent Age'].fillna(data['Respondent Age'].median(),inplace = True)\n",
        "\n",
        "data.isna().sum()"
      ],
      "metadata": {
        "colab": {
          "base_uri": "https://localhost:8080/"
        },
        "id": "0cUPwmrJIfiL",
        "outputId": "d77e1ffc-76d2-48a6-b06b-fb50469aec9e"
      },
      "execution_count": 13,
      "outputs": [
        {
          "output_type": "stream",
          "name": "stdout",
          "text": [
            "Our Respondent Age upper boundary is 83.5 and the lower boundary is -8.5\n"
          ]
        },
        {
          "output_type": "stream",
          "name": "stderr",
          "text": [
            "/usr/local/lib/python3.7/dist-packages/pandas/core/indexing.py:1817: SettingWithCopyWarning: \n",
            "A value is trying to be set on a copy of a slice from a DataFrame.\n",
            "Try using .loc[row_indexer,col_indexer] = value instead\n",
            "\n",
            "See the caveats in the documentation: https://pandas.pydata.org/pandas-docs/stable/user_guide/indexing.html#returning-a-view-versus-a-copy\n",
            "  self._setitem_single_column(loc, value, pi)\n",
            "/usr/local/lib/python3.7/dist-packages/pandas/core/generic.py:6392: SettingWithCopyWarning: \n",
            "A value is trying to be set on a copy of a slice from a DataFrame\n",
            "\n",
            "See the caveats in the documentation: https://pandas.pydata.org/pandas-docs/stable/user_guide/indexing.html#returning-a-view-versus-a-copy\n",
            "  return self._update_inplace(result)\n"
          ]
        },
        {
          "output_type": "execute_result",
          "data": {
            "text/plain": [
              "country                       0\n",
              "year                          0\n",
              "uniqueid                      0\n",
              "Has a Bank account            0\n",
              "Type of Location              0\n",
              "Cell Phone Access             0\n",
              "household_size                0\n",
              "Respondent Age                0\n",
              "gender_of_respondent          0\n",
              "The relationship with head    0\n",
              "marital_status                0\n",
              "Level of Educuation           0\n",
              "Type of Job                   0\n",
              "dtype: int64"
            ]
          },
          "metadata": {},
          "execution_count": 13
        }
      ]
    },
    {
      "cell_type": "markdown",
      "source": [
        "**Categorical Variables**"
      ],
      "metadata": {
        "id": "FNe1VzlVDYrM"
      }
    },
    {
      "cell_type": "code",
      "source": [
        "# Here we get to see the count, unique categories, top category and the frequency and the data type per each categorical variable\n",
        "# We shall use unique() to see the categories under each variable and confirm accuracy using the variable description shared earlier\n",
        "\n",
        "data['Has a Bank account'].describe()\n",
        "\n",
        "data['Type of Location'].describe()\n",
        "\n",
        "data['Cell Phone Access'].describe()\n",
        "\n",
        "data['gender_of_respondent'].describe()\n",
        "\n",
        "data['The relationship with head'].describe()\n",
        "\n",
        "data['Level of Educuation'].describe()\n",
        "# There was an odd entry of '6' which wasn't one of the categories.\n",
        "\n",
        "data['Type of Job'].describe()\n",
        "\n",
        "data['country'].describe()"
      ],
      "metadata": {
        "colab": {
          "base_uri": "https://localhost:8080/"
        },
        "id": "w0VNjvNxDdu0",
        "outputId": "051205a5-6709-4de9-d1f0-62c57dc1b360"
      },
      "execution_count": 14,
      "outputs": [
        {
          "output_type": "execute_result",
          "data": {
            "text/plain": [
              "count      23343\n",
              "unique         4\n",
              "top       Rwanda\n",
              "freq        8684\n",
              "Name: country, dtype: object"
            ]
          },
          "metadata": {},
          "execution_count": 14
        }
      ]
    },
    {
      "cell_type": "markdown",
      "source": [
        "20,046 respondents said they don't have a bank account. \n",
        "\n",
        "14,264 of the respondents lived in the rural areas.\n",
        "\n",
        "17,334 respondents had phone access\n",
        "\n",
        "13,767 of the respondents were female.\n",
        "\n",
        "12,730 of the respondents were the heads of their respective households.\n",
        "\n",
        "12,689 of the respondents studied up to Primary Education\n",
        "\n",
        "6,361 respondents said they were self-employed\n",
        "\n",
        "8,684 of the respondents were from Rwanda who made up a higher percentage of the dataset.\n",
        "\n"
      ],
      "metadata": {
        "id": "YI9LVyCk_z-R"
      }
    },
    {
      "cell_type": "code",
      "source": [
        "# For the categorical variables, only the Level of Education variable had an outlier.\n",
        "# Since there were six categories, we shall assign that entry to the sixth category\n",
        "\n",
        "#seeing the unique categories under Level of Education\n",
        "data['Level of Educuation'].unique()\n",
        "\n",
        "# Replacing 6 with 'Other/Dont know/RTA'\n",
        "data.replace(to_replace=['6'],\n",
        "           value= ['Other/Dont know/RTA'], \n",
        "           inplace=True)\n",
        "\n",
        "# Checking the unique categories after replacement\n",
        "data['Level of Educuation'].unique()\n",
        "    "
      ],
      "metadata": {
        "colab": {
          "base_uri": "https://localhost:8080/"
        },
        "id": "Ea9PvLpWAnYs",
        "outputId": "5f90570f-ae34-4ea2-9d57-d4a9ff9b6a1d"
      },
      "execution_count": 15,
      "outputs": [
        {
          "output_type": "stream",
          "name": "stderr",
          "text": [
            "/usr/local/lib/python3.7/dist-packages/pandas/core/frame.py:5244: SettingWithCopyWarning: \n",
            "A value is trying to be set on a copy of a slice from a DataFrame\n",
            "\n",
            "See the caveats in the documentation: https://pandas.pydata.org/pandas-docs/stable/user_guide/indexing.html#returning-a-view-versus-a-copy\n",
            "  method=method,\n"
          ]
        },
        {
          "output_type": "execute_result",
          "data": {
            "text/plain": [
              "array(['Secondary education', 'No formal education',\n",
              "       'Vocational/Specialised training', 'Primary education',\n",
              "       'Tertiary education', 'Other/Dont know/RTA'], dtype=object)"
            ]
          },
          "metadata": {},
          "execution_count": 15
        }
      ]
    },
    {
      "cell_type": "code",
      "source": [
        "# Checking how different ages are distributed within the levels of education\n",
        "Education = data['Level of Educuation'].head(12)\n",
        "hse_size = data['household_size'].head(12)\n",
        " \n",
        "# Figure Size\n",
        "fig = plt.figure(figsize =(10, 7))\n",
        "\n",
        "plt.xlabel('Household size', size = 10, color = 'black')\n",
        "plt.title('Distribution of respondents household size based on Level of Education', size = 15, color = 'black')\n",
        "# Horizontal Bar Plot\n",
        "plt.barh(Education,hse_size, color = 'teal')\n",
        " \n",
        "# Show Plot\n",
        "plt.show()"
      ],
      "metadata": {
        "colab": {
          "base_uri": "https://localhost:8080/",
          "height": 460
        },
        "id": "hSHyvU98RBhz",
        "outputId": "461e704b-23ea-4aa0-a5e5-10f142fcff35"
      },
      "execution_count": 16,
      "outputs": [
        {
          "output_type": "display_data",
          "data": {
            "text/plain": [
              "<Figure size 720x504 with 1 Axes>"
            ],
            "image/png": "[encoded data removed]"
          },
          "metadata": {
            "needs_background": "light"
          }
        }
      ]
    },
    {
      "cell_type": "markdown",
      "source": [
        "Majority of the respondents had no formal education and featured the oldest people.\n",
        "\n",
        "Vocational/Specialized training had the least number of respondents."
      ],
      "metadata": {
        "id": "dYv2-zX8jG3v"
      }
    },
    {
      "cell_type": "markdown",
      "source": [
        "## **Bivariate Analysis**\n",
        "\n",
        "Here, we'll carry out analysis describing the relationship between the two quantitative variables, and computing and interpreting the Pearson correlation coefficient."
      ],
      "metadata": {
        "id": "YGKYwj8Ikcp5"
      }
    },
    {
      "cell_type": "code",
      "source": [
        "# Checking the correlation coefficient\n",
        "# We had initially done this using the heat map\n",
        "# Calculating the pearson coefficient\n",
        "\n",
        "pearson_coeff = data[\"Respondent Age\"].corr(data[\"household_size\"], method=\"pearson\") \n",
        "print(\"The pearson correlation coefficient between the Respondent's age and household size is\", pearson_coeff)\n",
        "\n",
        "\n",
        "# The two variables have a weak negative correlation meaning that the older the Respondent is, the smaller their household size\n",
        "\n",
        "# Drawing a line plot\n",
        "\n",
        "# First, we group data by household size\n",
        "df = data.groupby('household_size').count()['year']\n",
        "print(df)\n",
        " \n",
        "# plot the result\n",
        "df.plot()\n",
        "plt.xticks(rotation=0)\n",
        "plt.xlabel(\"Household size\")\n",
        "plt.show()"
      ],
      "metadata": {
        "colab": {
          "base_uri": "https://localhost:8080/",
          "height": 516
        },
        "id": "EdOJRJEXk0SZ",
        "outputId": "a0bcf2a7-6999-4b2f-a863-0b7e77666ff3"
      },
      "execution_count": 17,
      "outputs": [
        {
          "output_type": "stream",
          "name": "stdout",
          "text": [
            "The pearson correlation coefficient between the Respondent's age and household size is -0.10257289111748556\n",
            "household_size\n",
            "0.0      36\n",
            "1.0    3928\n",
            "2.0    5072\n",
            "3.0    3890\n",
            "4.0    3200\n",
            "5.0    2716\n",
            "6.0    2029\n",
            "7.0    1378\n",
            "8.0     740\n",
            "9.0     354\n",
            "Name: year, dtype: int64\n"
          ]
        },
        {
          "output_type": "display_data",
          "data": {
            "text/plain": [
              "<Figure size 432x288 with 1 Axes>"
            ],
            "image/png": "[encoded data removed]"
          },
          "metadata": {
            "needs_background": "light"
          }
        }
      ]
    },
    {
      "cell_type": "markdown",
      "source": [
        "The line chart shows that fewer respondents had a household size of 8. Majority of them had a household size of less than or equal to 3."
      ],
      "metadata": {
        "id": "g7K6z3TKsvzl"
      }
    },
    {
      "cell_type": "code",
      "source": [
        "# Plotting a scatter plot to show relationship between Respondent Age and household size\n",
        "\n",
        "Age = data['Respondent Age'].head(12)\n",
        "hse_size = data['household_size'].head(12)\n",
        " \n",
        "# Figure Size\n",
        "fig = plt.figure(figsize =(10, 7))\n",
        "\n",
        "plt.xlabel('Age', size = 10, color = 'black')\n",
        "plt.ylabel('Household size', size = 10, color = 'black')\n",
        "plt.title('Distribution of respondents household size vs the respondent age', size = 15, color = 'black')\n",
        "# Horizontal Bar Plot\n",
        "plt.scatter(hse_size, Age,color = 'teal')\n",
        " \n",
        "# Show Plot\n",
        "plt.show()\n",
        "\n",
        "# The data points are spread out thus showing there's no relationship between the two variables"
      ],
      "metadata": {
        "colab": {
          "base_uri": "https://localhost:8080/",
          "height": 460
        },
        "id": "uyERuqF9Hw7H",
        "outputId": "9f8ce907-f63b-4125-eeaa-a9fabe64322a"
      },
      "execution_count": 18,
      "outputs": [
        {
          "output_type": "display_data",
          "data": {
            "text/plain": [
              "<Figure size 720x504 with 1 Axes>"
            ],
            "image/png": "[encoded data removed]"
          },
          "metadata": {
            "needs_background": "light"
          }
        }
      ]
    },
    {
      "cell_type": "code",
      "source": [
        "# Creating the stacked column chart\n",
        "\n",
        "# First, we'll create a table grouping our data by cell phone access and the countries of our respondents\n",
        "\n",
        "phone_access = data.groupby(['Cell Phone Access', 'country']).count()\n",
        "phone_access\n",
        "\n",
        "# We then use pd.pivot_table() to transform our long format dataframe to a wide format dataframe.\n",
        "phone_access_pivot = phone_access.pivot_table(index=['country'],columns = ['Cell Phone Access'],values = 'household_size')\n",
        "phone_access_pivot\n",
        "\n",
        "# Plotting our stacked column chart\n",
        "phone_access_pivot.plot(kind='bar',stacked = True, figsize=(8, 6), color =['orange','teal'])\n",
        "\n",
        "# Rotating our x axis ticks\n",
        "plt.xticks(rotation = 45)\n",
        "\n",
        "# Giving our chart a title\n",
        "plt.title(\"Cellphone owners per country\", fontsize=14, y=1.015)\n",
        "\n",
        "# Labeling our y axis\n",
        "plt.ylabel(\"Count\", fontsize=14, labelpad=15)\n",
        "\n",
        "# Labeling our x axis\n",
        "plt.xlabel(\"Country\", fontsize=14, labelpad=15)\n",
        "\n",
        "# Displaying our chart\n",
        "plt.show()\n"
      ],
      "metadata": {
        "colab": {
          "base_uri": "https://localhost:8080/",
          "height": 453
        },
        "id": "jjKx9Keuhfnc",
        "outputId": "0947d4cf-36c0-474f-a105-bc7d81987ef7"
      },
      "execution_count": 19,
      "outputs": [
        {
          "output_type": "display_data",
          "data": {
            "text/plain": [
              "<Figure size 576x432 with 1 Axes>"
            ],
            "image/png": "[encoded data removed]"
          },
          "metadata": {
            "needs_background": "light"
          }
        }
      ]
    },
    {
      "cell_type": "markdown",
      "source": [
        "With respect to the country's specific sample sizes, we see from the chart that Rwanda had most cell phone owners.\n",
        "Tanzania had most respondents who didn't have cell phones.\n"
      ],
      "metadata": {
        "id": "GHQbd_u_a724"
      }
    },
    {
      "cell_type": "code",
      "source": [
        "# What type of job do the respondents do based on their bank ownership?\n",
        "# Creating the column chart\n",
        "\n",
        "# First, we'll create a table grouping our data by gender and the levels of education of our respondents\n",
        "\n",
        "education = data.groupby(['Type of Job', 'Has a Bank account']).count()\n",
        "education\n",
        "\n",
        "# We then use pd.pivot_table() to transform our long format dataframe to a wide format dataframe.\n",
        "education_pivot = education.pivot_table(index=['Type of Job'],columns = ['Has a Bank account'],values = 'household_size')\n",
        "education_pivot\n",
        "\n",
        "# Plotting our stacked column chart\n",
        "education_pivot.plot(kind='bar',stacked = False, figsize=(8, 6), color =['orange','teal'])\n",
        "\n",
        "# Rotating our x axis ticks\n",
        "plt.xticks(rotation = 45)\n",
        "\n",
        "# Giving our chart a title\n",
        "plt.title(\"Type of job based on bank account ownership\", fontsize=14, y=1.015)\n",
        "\n",
        "# Labeling our y axis\n",
        "plt.ylabel(\"Count\", fontsize=14, labelpad=15)\n",
        "\n",
        "# Labeling our x axis\n",
        "plt.xlabel(\"Type of Job\", fontsize=14, labelpad=15)\n",
        "\n",
        "# Displaying our chart\n",
        "plt.show()"
      ],
      "metadata": {
        "colab": {
          "base_uri": "https://localhost:8080/",
          "height": 535
        },
        "id": "9QY2swU3nCqr",
        "outputId": "b6798332-c5f4-4059-d7d8-2c618e0087f7"
      },
      "execution_count": 16,
      "outputs": [
        {
          "output_type": "display_data",
          "data": {
            "text/plain": [
              "<Figure size 576x432 with 1 Axes>"
            ],
            "image/png": "[encoded data removed]"
          },
          "metadata": {
            "needs_background": "light"
          }
        }
      ]
    },
    {
      "cell_type": "code",
      "source": [
        "# What is the distribution of level of education depending on gender?\n",
        "# Creating the column chart\n",
        "\n",
        "# First, we'll create a table grouping our data by gender and the levels of education of our respondents\n",
        "\n",
        "education = data.groupby(['Level of Educuation', 'gender_of_respondent']).count()\n",
        "education\n",
        "\n",
        "# We then use pd.pivot_table() to transform our long format dataframe to a wide format dataframe.\n",
        "education_pivot = education.pivot_table(index=['Level of Educuation'],columns = ['gender_of_respondent'],values = 'household_size')\n",
        "education_pivot\n",
        "\n",
        "# Plotting our stacked column chart\n",
        "education_pivot.plot(kind='bar',stacked = False, figsize=(8, 6), color =['orange','teal'])\n",
        "\n",
        "# Rotating our x axis ticks\n",
        "plt.xticks(rotation = 45)\n",
        "\n",
        "# Giving our chart a title\n",
        "plt.title(\"Levels of education based on gender\", fontsize=14, y=1.015)\n",
        "\n",
        "# Labeling our y axis\n",
        "plt.ylabel(\"Count\", fontsize=14, labelpad=15)\n",
        "\n",
        "# Labeling our x axis\n",
        "plt.xlabel(\"Gender\", fontsize=14, labelpad=15)\n",
        "\n",
        "# Displaying our chart\n",
        "plt.show()\n",
        "\n",
        "# Most of the respondents studied up to the primary level\n",
        "# More females than males are educated in each level"
      ],
      "metadata": {
        "colab": {
          "base_uri": "https://localhost:8080/",
          "height": 531
        },
        "id": "R4J96aHkjxGe",
        "outputId": "ca479ffa-5a4a-452d-dec2-0d04b7fc1c9a"
      },
      "execution_count": 12,
      "outputs": [
        {
          "output_type": "display_data",
          "data": {
            "text/plain": [
              "<Figure size 576x432 with 1 Axes>"
            ],
            "image/png": "[encoded data removed]"
          },
          "metadata": {
            "needs_background": "light"
          }
        }
      ]
    },
    {
      "cell_type": "code",
      "source": [
        "# Which area has more respondents with bank accounts, rural or urban?\n",
        "\n",
        "# Creating the column chart\n",
        "\n",
        "# First, we'll create a table grouping our data by bank account ownership and the type of locations of our respondents\n",
        "\n",
        "bank_owners = data.groupby(['Has a Bank account', 'Type of Location']).count()\n",
        "bank_owners\n",
        "\n",
        "# We then use pd.pivot_table() to transform our long format dataframe to a wide format dataframe.\n",
        "bank_owners_pivot = bank_owners.pivot_table(index=['Type of Location'],columns = ['Has a Bank account'],values = 'household_size')\n",
        "bank_owners_pivot\n",
        "\n",
        "# Plotting our stacked column chart\n",
        "bank_owners_pivot.plot(kind='bar',stacked = False, figsize=(8, 6), color =['orange','teal'])\n",
        "\n",
        "# Rotating our x axis ticks\n",
        "plt.xticks(rotation = 45)\n",
        "\n",
        "# Giving our chart a title\n",
        "plt.title(\"Bank account owners per type of location\", fontsize=14, y=1.015)\n",
        "\n",
        "# Labeling our y axis\n",
        "plt.ylabel(\"Count\", fontsize=14, labelpad=15)\n",
        "\n",
        "# Labeling our x axis\n",
        "plt.xlabel(\"Location\", fontsize=14, labelpad=15)\n",
        "\n",
        "# Displaying our chart\n",
        "plt.show()"
      ],
      "metadata": {
        "colab": {
          "base_uri": "https://localhost:8080/",
          "height": 443
        },
        "id": "tnssBOd1hrod",
        "outputId": "b7723ed5-f5fd-46ae-fe5c-1721faf6beea"
      },
      "execution_count": 10,
      "outputs": [
        {
          "output_type": "display_data",
          "data": {
            "text/plain": [
              "<Figure size 576x432 with 1 Axes>"
            ],
            "image/png": "[encoded data removed]"
          },
          "metadata": {
            "needs_background": "light"
          }
        }
      ]
    },
    {
      "cell_type": "code",
      "source": [
        "# What is the distribution of respondent's bank ownership based on level of education ?\n",
        "# Creating the column chart\n",
        "\n",
        "# First, we'll create a table grouping our data by gender and the levels of education of our respondents\n",
        "\n",
        "education = data.groupby(['Level of Educuation', 'Has a Bank account']).count()\n",
        "education\n",
        "\n",
        "# We then use pd.pivot_table() to transform our long format dataframe to a wide format dataframe.\n",
        "education_pivot = education.pivot_table(index=['Level of Educuation'],columns = ['Has a Bank account'],values = 'household_size')\n",
        "education_pivot\n",
        "\n",
        "# Plotting our stacked column chart\n",
        "education_pivot.plot(kind='bar',stacked = False, figsize=(8, 6), color =['orange','teal'])\n",
        "\n",
        "# Rotating our x axis ticks\n",
        "plt.xticks(rotation = 45)\n",
        "\n",
        "# Giving our chart a title\n",
        "plt.title(\"Bank account ownership based on levels of education\", fontsize=14, y=1.015)\n",
        "\n",
        "# Labeling our y axis\n",
        "plt.ylabel(\"Count\", fontsize=14, labelpad=15)\n",
        "\n",
        "# Labeling our x axis\n",
        "plt.xlabel(\"Gender\", fontsize=14, labelpad=15)\n",
        "\n",
        "# Displaying our chart\n",
        "plt.show()\n",
        "\n",
        "# Majority of those with tertiary education and vocational/specialized training had a bank account\n",
        "# Respondents who answered 'Other/Don't know/RTA' were leading in the number of respondents who didn't own bank accounts\n",
        "# Most of the respondents who were bank account owners were those who studied up to the primary level"
      ],
      "metadata": {
        "colab": {
          "base_uri": "https://localhost:8080/",
          "height": 531
        },
        "id": "4HfHw2jtli6Q",
        "outputId": "5a15e23d-6a1d-4dba-c9a6-a6d1474e9537"
      },
      "execution_count": 14,
      "outputs": [
        {
          "output_type": "display_data",
          "data": {
            "text/plain": [
              "<Figure size 576x432 with 1 Axes>"
            ],
            "image/png": "[encoded data removed]"
          },
          "metadata": {
            "needs_background": "light"
          }
        }
      ]
    },
    {
      "cell_type": "markdown",
      "source": [
        "### **Multivariate Analysis**\n",
        "\n",
        "Here, we shall perform multivariate analysis by finding relationships between variables using multiple regression analysis and applying reduction techniques.\n",
        "\n"
      ],
      "metadata": {
        "id": "x34EikU_RL8v"
      }
    },
    {
      "cell_type": "markdown",
      "source": [
        "## **Normalization of Features**\n",
        "\n",
        "PCA is a statistical technique and can only be applied to numeric data. Therefore, categorical features are required to be converted into numerical features before PCA can be applied.\n",
        "\n",
        "We will implement PCA with the help of Python's Scikit-Learn library. Here, we'll train our models, make predictions and evaluate accuracies. The only additional step will be to perform PCA to find out optimal number of features before we train our models. These steps have been implemented as follows:"
      ],
      "metadata": {
        "id": "ShRmh_jpRKvw"
      }
    },
    {
      "cell_type": "code",
      "source": [
        "\n",
        "# First we'll convert our dataset's variable type to 'float'\n",
        "# Code the categorical variables to avoid ending up with null values in our dataset\n",
        "\n",
        "df = data\n",
        "df['country'].replace(to_replace=['Kenya', 'Uganda','Tanzania', 'Rwanda'],\n",
        "           value= [1,2,3,4], \n",
        "           inplace=True)\n",
        "df['country'] = pd.to_numeric(df['country'],errors = 'coerce')\n",
        "\n",
        "df['uniqueid'] = pd.to_numeric(df['uniqueid'], errors='coerce')\n",
        "df['Has a Bank account'].replace(to_replace=['Yes', 'No'],\n",
        "           value= [0,1], \n",
        "           inplace=True)\n",
        "df['Has a Bank account'] = pd.to_numeric(df['Has a Bank account'], errors = 'coerce')\n",
        "\n",
        "df['Type of Location'].replace(to_replace=['Rural', 'Urban'],\n",
        "           value= [0,1], \n",
        "           inplace=True)\n",
        "df['Type of Location'] = pd.to_numeric(df['Type of Location'], errors = 'coerce')\n",
        "\n",
        "df['Cell Phone Access'].replace(to_replace=['Yes', 'No'],\n",
        "           value= [0,1], \n",
        "           inplace=True)\n",
        "df['Cell Phone Access'] = pd.to_numeric(df['Cell Phone Access'], errors = 'coerce')\n",
        "\n",
        "df['gender_of_respondent'].replace(to_replace=['Male', 'Female'],\n",
        "           value= [0,1], \n",
        "           inplace=True)\n",
        "df['gender_of_respondent'] = pd.to_numeric(df['gender_of_respondent'], errors = 'coerce')\n",
        "\n",
        "df['The relationship with head'].replace(to_replace=['Head of Household', 'Spouse', \n",
        "                                                     'Child', 'Parent', 'Other relative', 'Other non-relatives', 'Dont know'],\n",
        "                                         value= [1,2,3,4,5,6,7], \n",
        "                                         inplace=True)\n",
        "df['The relationship with head'] = pd.to_numeric(df['The relationship with head'], errors = 'coerce')\n",
        "\n",
        "df['marital_status'].replace(to_replace=['Married/Living together', 'Divorced/Seperated', 'Widowed', 'Single/Never Married', \"Don't know\"],\n",
        "           value= [1,2,3,4,5], \n",
        "           inplace=True)\n",
        "df['marital_status'] = pd.to_numeric(df['marital_status'], errors = 'coerce')\n",
        "\n",
        "df['Level of Educuation'].replace(to_replace=['Secondary education', 'No formal education','Vocational/Specialised training', 'Primary education','Tertiary education', 'Other/Dont know/RTA'],\n",
        "           value= [1,2,3,4,5,6], \n",
        "           inplace=True)\n",
        "df['Level of Educuation'] = pd.to_numeric(df['Level of Educuation'], errors = 'coerce')\n",
        "\n",
        "df['Type of Job'].replace(to_replace=['Farming and Fishing', 'Self employed','Formally employed Government', 'Formally employed Private',\n",
        "                                      'Informally employed', 'Remittance Dependent', 'Government Dependent', 'Other Income','No Income','Dont Know/Refuse to answer'],\n",
        "           value= [1,2,3,4,5,6,7,8,9,10], \n",
        "           inplace=True)\n",
        "\n",
        "df['Type of Job'] = pd.to_numeric(df['Type of Job'], errors = 'coerce')\n",
        "print(df.dtypes)\n",
        "\n",
        "df\n",
        "\n"
      ],
      "metadata": {
        "colab": {
          "base_uri": "https://localhost:8080/",
          "height": 1000
        },
        "id": "EhjvxryvRyMs",
        "outputId": "7ccc09ac-2b51-41f1-8f49-7dbd850f9cab"
      },
      "execution_count": 96,
      "outputs": [
        {
          "output_type": "stream",
          "name": "stdout",
          "text": [
            "country                         int64\n",
            "year                            int64\n",
            "uniqueid                        int64\n",
            "Has a Bank account              int64\n",
            "Type of Location                int64\n",
            "Cell Phone Access               int64\n",
            "household_size                float64\n",
            "Respondent Age                float64\n",
            "gender_of_respondent            int64\n",
            "The relationship with head      int64\n",
            "marital_status                float64\n",
            "Level of Educuation             int64\n",
            "Type of Job                     int64\n",
            "dtype: object\n"
          ]
        },
        {
          "output_type": "stream",
          "name": "stderr",
          "text": [
            "/usr/local/lib/python3.7/dist-packages/pandas/core/generic.py:6619: SettingWithCopyWarning: \n",
            "A value is trying to be set on a copy of a slice from a DataFrame\n",
            "\n",
            "See the caveats in the documentation: https://pandas.pydata.org/pandas-docs/stable/user_guide/indexing.html#returning-a-view-versus-a-copy\n",
            "  return self._update_inplace(result)\n",
            "/usr/local/lib/python3.7/dist-packages/ipykernel_launcher.py:8: SettingWithCopyWarning: \n",
            "A value is trying to be set on a copy of a slice from a DataFrame.\n",
            "Try using .loc[row_indexer,col_indexer] = value instead\n",
            "\n",
            "See the caveats in the documentation: https://pandas.pydata.org/pandas-docs/stable/user_guide/indexing.html#returning-a-view-versus-a-copy\n",
            "  \n",
            "/usr/local/lib/python3.7/dist-packages/ipykernel_launcher.py:10: SettingWithCopyWarning: \n",
            "A value is trying to be set on a copy of a slice from a DataFrame.\n",
            "Try using .loc[row_indexer,col_indexer] = value instead\n",
            "\n",
            "See the caveats in the documentation: https://pandas.pydata.org/pandas-docs/stable/user_guide/indexing.html#returning-a-view-versus-a-copy\n",
            "  # Remove the CWD from sys.path while we load stuff.\n",
            "/usr/local/lib/python3.7/dist-packages/ipykernel_launcher.py:14: SettingWithCopyWarning: \n",
            "A value is trying to be set on a copy of a slice from a DataFrame.\n",
            "Try using .loc[row_indexer,col_indexer] = value instead\n",
            "\n",
            "See the caveats in the documentation: https://pandas.pydata.org/pandas-docs/stable/user_guide/indexing.html#returning-a-view-versus-a-copy\n",
            "  \n",
            "/usr/local/lib/python3.7/dist-packages/ipykernel_launcher.py:19: SettingWithCopyWarning: \n",
            "A value is trying to be set on a copy of a slice from a DataFrame.\n",
            "Try using .loc[row_indexer,col_indexer] = value instead\n",
            "\n",
            "See the caveats in the documentation: https://pandas.pydata.org/pandas-docs/stable/user_guide/indexing.html#returning-a-view-versus-a-copy\n",
            "/usr/local/lib/python3.7/dist-packages/ipykernel_launcher.py:24: SettingWithCopyWarning: \n",
            "A value is trying to be set on a copy of a slice from a DataFrame.\n",
            "Try using .loc[row_indexer,col_indexer] = value instead\n",
            "\n",
            "See the caveats in the documentation: https://pandas.pydata.org/pandas-docs/stable/user_guide/indexing.html#returning-a-view-versus-a-copy\n",
            "/usr/local/lib/python3.7/dist-packages/ipykernel_launcher.py:29: SettingWithCopyWarning: \n",
            "A value is trying to be set on a copy of a slice from a DataFrame.\n",
            "Try using .loc[row_indexer,col_indexer] = value instead\n",
            "\n",
            "See the caveats in the documentation: https://pandas.pydata.org/pandas-docs/stable/user_guide/indexing.html#returning-a-view-versus-a-copy\n",
            "/usr/local/lib/python3.7/dist-packages/ipykernel_launcher.py:35: SettingWithCopyWarning: \n",
            "A value is trying to be set on a copy of a slice from a DataFrame.\n",
            "Try using .loc[row_indexer,col_indexer] = value instead\n",
            "\n",
            "See the caveats in the documentation: https://pandas.pydata.org/pandas-docs/stable/user_guide/indexing.html#returning-a-view-versus-a-copy\n",
            "/usr/local/lib/python3.7/dist-packages/ipykernel_launcher.py:40: SettingWithCopyWarning: \n",
            "A value is trying to be set on a copy of a slice from a DataFrame.\n",
            "Try using .loc[row_indexer,col_indexer] = value instead\n",
            "\n",
            "See the caveats in the documentation: https://pandas.pydata.org/pandas-docs/stable/user_guide/indexing.html#returning-a-view-versus-a-copy\n",
            "/usr/local/lib/python3.7/dist-packages/ipykernel_launcher.py:45: SettingWithCopyWarning: \n",
            "A value is trying to be set on a copy of a slice from a DataFrame.\n",
            "Try using .loc[row_indexer,col_indexer] = value instead\n",
            "\n",
            "See the caveats in the documentation: https://pandas.pydata.org/pandas-docs/stable/user_guide/indexing.html#returning-a-view-versus-a-copy\n",
            "/usr/local/lib/python3.7/dist-packages/ipykernel_launcher.py:52: SettingWithCopyWarning: \n",
            "A value is trying to be set on a copy of a slice from a DataFrame.\n",
            "Try using .loc[row_indexer,col_indexer] = value instead\n",
            "\n",
            "See the caveats in the documentation: https://pandas.pydata.org/pandas-docs/stable/user_guide/indexing.html#returning-a-view-versus-a-copy\n"
          ]
        },
        {
          "output_type": "execute_result",
          "data": {
            "text/plain": [
              "       country  year  uniqueid  Has a Bank account  Type of Location  \\\n",
              "0            1  2018         1                   0                 0   \n",
              "1            1  2018         2                   1                 0   \n",
              "2            1  2018         3                   0                 1   \n",
              "3            1  2018         4                   1                 0   \n",
              "4            1  2018         5                   1                 1   \n",
              "...        ...   ...       ...                 ...               ...   \n",
              "23519        2  2018      2113                   1                 0   \n",
              "23520        2  2018      2114                   1                 0   \n",
              "23521        2  2018      2115                   1                 0   \n",
              "23522        2  2018      2116                   1                 1   \n",
              "23523        2  2018      2117                   1                 0   \n",
              "\n",
              "       Cell Phone Access  household_size  Respondent Age  \\\n",
              "0                      0             3.0            24.0   \n",
              "1                      1             5.0            70.0   \n",
              "2                      0             5.0            26.0   \n",
              "3                      0             5.0            34.0   \n",
              "4                      1             8.0            26.0   \n",
              "...                  ...             ...             ...   \n",
              "23519                  0             4.0            48.0   \n",
              "23520                  0             2.0            27.0   \n",
              "23521                  0             5.0            27.0   \n",
              "23522                  0             7.0            30.0   \n",
              "23523                  0            10.0            20.0   \n",
              "\n",
              "       gender_of_respondent  The relationship with head  marital_status  \\\n",
              "0                         1                           2             1.0   \n",
              "1                         1                           1             3.0   \n",
              "2                         0                           5             4.0   \n",
              "3                         1                           1             1.0   \n",
              "4                         0                           3             4.0   \n",
              "...                     ...                         ...             ...   \n",
              "23519                     1                           1             2.0   \n",
              "23520                     1                           1             4.0   \n",
              "23521                     1                           4             3.0   \n",
              "23522                     1                           4             2.0   \n",
              "23523                     0                           3             4.0   \n",
              "\n",
              "       Level of Educuation  Type of Job  \n",
              "0                        1            2  \n",
              "1                        2            7  \n",
              "2                        3            2  \n",
              "3                        4            4  \n",
              "4                        4            5  \n",
              "...                    ...          ...  \n",
              "23519                    2            8  \n",
              "23520                    1            8  \n",
              "23521                    4            8  \n",
              "23522                    1            2  \n",
              "23523                    1            9  \n",
              "\n",
              "[23343 rows x 13 columns]"
            ],
            "text/html": [
              "\n",
              "  <div id=\"df-957b2832-7f1c-4718-928f-452500fe0483\">\n",
              "    <div class=\"colab-df-container\">\n",
              "      <div>\n",
              "<style scoped>\n",
              "    .dataframe tbody tr th:only-of-type {\n",
              "        vertical-align: middle;\n",
              "    }\n",
              "\n",
              "    .dataframe tbody tr th {\n",
              "        vertical-align: top;\n",
              "    }\n",
              "\n",
              "    .dataframe thead th {\n",
              "        text-align: right;\n",
              "    }\n",
              "</style>\n",
              "<table border=\"1\" class=\"dataframe\">\n",
              "  <thead>\n",
              "    <tr style=\"text-align: right;\">\n",
              "      <th></th>\n",
              "      <th>country</th>\n",
              "      <th>year</th>\n",
              "      <th>uniqueid</th>\n",
              "      <th>Has a Bank account</th>\n",
              "      <th>Type of Location</th>\n",
              "      <th>Cell Phone Access</th>\n",
              "      <th>household_size</th>\n",
              "      <th>Respondent Age</th>\n",
              "      <th>gender_of_respondent</th>\n",
              "      <th>The relationship with head</th>\n",
              "      <th>marital_status</th>\n",
              "      <th>Level of Educuation</th>\n",
              "      <th>Type of Job</th>\n",
              "    </tr>\n",
              "  </thead>\n",
              "  <tbody>\n",
              "    <tr>\n",
              "      <th>0</th>\n",
              "      <td>1</td>\n",
              "      <td>2018</td>\n",
              "      <td>1</td>\n",
              "      <td>0</td>\n",
              "      <td>0</td>\n",
              "      <td>0</td>\n",
              "      <td>3.0</td>\n",
              "      <td>24.0</td>\n",
              "      <td>1</td>\n",
              "      <td>2</td>\n",
              "      <td>1.0</td>\n",
              "      <td>1</td>\n",
              "      <td>2</td>\n",
              "    </tr>\n",
              "    <tr>\n",
              "      <th>1</th>\n",
              "      <td>1</td>\n",
              "      <td>2018</td>\n",
              "      <td>2</td>\n",
              "      <td>1</td>\n",
              "      <td>0</td>\n",
              "      <td>1</td>\n",
              "      <td>5.0</td>\n",
              "      <td>70.0</td>\n",
              "      <td>1</td>\n",
              "      <td>1</td>\n",
              "      <td>3.0</td>\n",
              "      <td>2</td>\n",
              "      <td>7</td>\n",
              "    </tr>\n",
              "    <tr>\n",
              "      <th>2</th>\n",
              "      <td>1</td>\n",
              "      <td>2018</td>\n",
              "      <td>3</td>\n",
              "      <td>0</td>\n",
              "      <td>1</td>\n",
              "      <td>0</td>\n",
              "      <td>5.0</td>\n",
              "      <td>26.0</td>\n",
              "      <td>0</td>\n",
              "      <td>5</td>\n",
              "      <td>4.0</td>\n",
              "      <td>3</td>\n",
              "      <td>2</td>\n",
              "    </tr>\n",
              "    <tr>\n",
              "      <th>3</th>\n",
              "      <td>1</td>\n",
              "      <td>2018</td>\n",
              "      <td>4</td>\n",
              "      <td>1</td>\n",
              "      <td>0</td>\n",
              "      <td>0</td>\n",
              "      <td>5.0</td>\n",
              "      <td>34.0</td>\n",
              "      <td>1</td>\n",
              "      <td>1</td>\n",
              "      <td>1.0</td>\n",
              "      <td>4</td>\n",
              "      <td>4</td>\n",
              "    </tr>\n",
              "    <tr>\n",
              "      <th>4</th>\n",
              "      <td>1</td>\n",
              "      <td>2018</td>\n",
              "      <td>5</td>\n",
              "      <td>1</td>\n",
              "      <td>1</td>\n",
              "      <td>1</td>\n",
              "      <td>8.0</td>\n",
              "      <td>26.0</td>\n",
              "      <td>0</td>\n",
              "      <td>3</td>\n",
              "      <td>4.0</td>\n",
              "      <td>4</td>\n",
              "      <td>5</td>\n",
              "    </tr>\n",
              "    <tr>\n",
              "      <th>...</th>\n",
              "      <td>...</td>\n",
              "      <td>...</td>\n",
              "      <td>...</td>\n",
              "      <td>...</td>\n",
              "      <td>...</td>\n",
              "      <td>...</td>\n",
              "      <td>...</td>\n",
              "      <td>...</td>\n",
              "      <td>...</td>\n",
              "      <td>...</td>\n",
              "      <td>...</td>\n",
              "      <td>...</td>\n",
              "      <td>...</td>\n",
              "    </tr>\n",
              "    <tr>\n",
              "      <th>23519</th>\n",
              "      <td>2</td>\n",
              "      <td>2018</td>\n",
              "      <td>2113</td>\n",
              "      <td>1</td>\n",
              "      <td>0</td>\n",
              "      <td>0</td>\n",
              "      <td>4.0</td>\n",
              "      <td>48.0</td>\n",
              "      <td>1</td>\n",
              "      <td>1</td>\n",
              "      <td>2.0</td>\n",
              "      <td>2</td>\n",
              "      <td>8</td>\n",
              "    </tr>\n",
              "    <tr>\n",
              "      <th>23520</th>\n",
              "      <td>2</td>\n",
              "      <td>2018</td>\n",
              "      <td>2114</td>\n",
              "      <td>1</td>\n",
              "      <td>0</td>\n",
              "      <td>0</td>\n",
              "      <td>2.0</td>\n",
              "      <td>27.0</td>\n",
              "      <td>1</td>\n",
              "      <td>1</td>\n",
              "      <td>4.0</td>\n",
              "      <td>1</td>\n",
              "      <td>8</td>\n",
              "    </tr>\n",
              "    <tr>\n",
              "      <th>23521</th>\n",
              "      <td>2</td>\n",
              "      <td>2018</td>\n",
              "      <td>2115</td>\n",
              "      <td>1</td>\n",
              "      <td>0</td>\n",
              "      <td>0</td>\n",
              "      <td>5.0</td>\n",
              "      <td>27.0</td>\n",
              "      <td>1</td>\n",
              "      <td>4</td>\n",
              "      <td>3.0</td>\n",
              "      <td>4</td>\n",
              "      <td>8</td>\n",
              "    </tr>\n",
              "    <tr>\n",
              "      <th>23522</th>\n",
              "      <td>2</td>\n",
              "      <td>2018</td>\n",
              "      <td>2116</td>\n",
              "      <td>1</td>\n",
              "      <td>1</td>\n",
              "      <td>0</td>\n",
              "      <td>7.0</td>\n",
              "      <td>30.0</td>\n",
              "      <td>1</td>\n",
              "      <td>4</td>\n",
              "      <td>2.0</td>\n",
              "      <td>1</td>\n",
              "      <td>2</td>\n",
              "    </tr>\n",
              "    <tr>\n",
              "      <th>23523</th>\n",
              "      <td>2</td>\n",
              "      <td>2018</td>\n",
              "      <td>2117</td>\n",
              "      <td>1</td>\n",
              "      <td>0</td>\n",
              "      <td>0</td>\n",
              "      <td>10.0</td>\n",
              "      <td>20.0</td>\n",
              "      <td>0</td>\n",
              "      <td>3</td>\n",
              "      <td>4.0</td>\n",
              "      <td>1</td>\n",
              "      <td>9</td>\n",
              "    </tr>\n",
              "  </tbody>\n",
              "</table>\n",
              "<p>23343 rows × 13 columns</p>\n",
              "</div>\n",
              "      <button class=\"colab-df-convert\" onclick=\"convertToInteractive('df-957b2832-7f1c-4718-928f-452500fe0483')\"\n",
              "              title=\"Convert this dataframe to an interactive table.\"\n",
              "              style=\"display:none;\">\n",
              "        \n",
              "  <svg xmlns=\"http://www.w3.org/2000/svg\" height=\"24px\"viewBox=\"0 0 24 24\"\n",
              "       width=\"24px\">\n",
              "    <path d=\"M0 0h24v24H0V0z\" fill=\"none\"/>\n",
              "    <path d=\"M18.56 5.44l.94 2.06.94-2.06 2.06-.94-2.06-.94-.94-2.06-.94 2.06-2.06.94zm-11 1L8.5 8.5l.94-2.06 2.06-.94-2.06-.94L8.5 2.5l-.94 2.06-2.06.94zm10 10l.94 2.06.94-2.06 2.06-.94-2.06-.94-.94-2.06-.94 2.06-2.06.94z\"/><path d=\"M17.41 7.96l-1.37-1.37c-.4-.4-.92-.59-1.43-.59-.52 0-1.04.2-1.43.59L10.3 9.45l-7.72 7.72c-.78.78-.78 2.05 0 2.83L4 21.41c.39.39.9.59 1.41.59.51 0 1.02-.2 1.41-.59l7.78-7.78 2.81-2.81c.8-.78.8-2.07 0-2.86zM5.41 20L4 18.59l7.72-7.72 1.47 1.35L5.41 20z\"/>\n",
              "  </svg>\n",
              "      </button>\n",
              "      \n",
              "  <style>\n",
              "    .colab-df-container {\n",
              "      display:flex;\n",
              "      flex-wrap:wrap;\n",
              "      gap: 12px;\n",
              "    }\n",
              "\n",
              "    .colab-df-convert {\n",
              "      background-color: #E8F0FE;\n",
              "      border: none;\n",
              "      border-radius: 50%;\n",
              "      cursor: pointer;\n",
              "      display: none;\n",
              "      fill: #1967D2;\n",
              "      height: 32px;\n",
              "      padding: 0 0 0 0;\n",
              "      width: 32px;\n",
              "    }\n",
              "\n",
              "    .colab-df-convert:hover {\n",
              "      background-color: #E2EBFA;\n",
              "      box-shadow: 0px 1px 2px rgba(60, 64, 67, 0.3), 0px 1px 3px 1px rgba(60, 64, 67, 0.15);\n",
              "      fill: #174EA6;\n",
              "    }\n",
              "\n",
              "    [theme=dark] .colab-df-convert {\n",
              "      background-color: #3B4455;\n",
              "      fill: #D2E3FC;\n",
              "    }\n",
              "\n",
              "    [theme=dark] .colab-df-convert:hover {\n",
              "      background-color: #434B5C;\n",
              "      box-shadow: 0px 1px 3px 1px rgba(0, 0, 0, 0.15);\n",
              "      filter: drop-shadow(0px 1px 2px rgba(0, 0, 0, 0.3));\n",
              "      fill: #FFFFFF;\n",
              "    }\n",
              "  </style>\n",
              "\n",
              "      <script>\n",
              "        const buttonEl =\n",
              "          document.querySelector('#df-957b2832-7f1c-4718-928f-452500fe0483 button.colab-df-convert');\n",
              "        buttonEl.style.display =\n",
              "          google.colab.kernel.accessAllowed ? 'block' : 'none';\n",
              "\n",
              "        async function convertToInteractive(key) {\n",
              "          const element = document.querySelector('#df-957b2832-7f1c-4718-928f-452500fe0483');\n",
              "          const dataTable =\n",
              "            await google.colab.kernel.invokeFunction('convertToInteractive',\n",
              "                                                     [key], {});\n",
              "          if (!dataTable) return;\n",
              "\n",
              "          const docLinkHtml = 'Like what you see? Visit the ' +\n",
              "            '<a target=\"_blank\" href=https://colab.research.google.com/notebooks/data_table.ipynb>data table notebook</a>'\n",
              "            + ' to learn more about interactive tables.';\n",
              "          element.innerHTML = '';\n",
              "          dataTable['output_type'] = 'display_data';\n",
              "          await google.colab.output.renderOutput(dataTable, element);\n",
              "          const docLink = document.createElement('div');\n",
              "          docLink.innerHTML = docLinkHtml;\n",
              "          element.appendChild(docLink);\n",
              "        }\n",
              "      </script>\n",
              "    </div>\n",
              "  </div>\n",
              "  "
            ]
          },
          "metadata": {},
          "execution_count": 96
        }
      ]
    },
    {
      "cell_type": "code",
      "source": [
        "# We shall divide the dataset into a feature set and corresponding labels. \n",
        "# The following script performs this task. The script below stores the feature sets into the X variable \n",
        "# and the series of corresponding labels in to the y variable. \n",
        "\n",
        "X = df.drop('country', 1) # assign the feature columns to variable 'X'\n",
        "y = df['country']  # assign the class column to variable 'Y'\n",
        "X\n"
      ],
      "metadata": {
        "colab": {
          "base_uri": "https://localhost:8080/",
          "height": 559
        },
        "id": "MW-BIFE-S2M9",
        "outputId": "3f20ae7f-8a8d-4969-d7b5-479537a5ba59"
      },
      "execution_count": 97,
      "outputs": [
        {
          "output_type": "stream",
          "name": "stderr",
          "text": [
            "/usr/local/lib/python3.7/dist-packages/ipykernel_launcher.py:5: FutureWarning: In a future version of pandas all arguments of DataFrame.drop except for the argument 'labels' will be keyword-only\n",
            "  \"\"\"\n"
          ]
        },
        {
          "output_type": "execute_result",
          "data": {
            "text/plain": [
              "       year  uniqueid  Has a Bank account  Type of Location  \\\n",
              "0      2018         1                   0                 0   \n",
              "1      2018         2                   1                 0   \n",
              "2      2018         3                   0                 1   \n",
              "3      2018         4                   1                 0   \n",
              "4      2018         5                   1                 1   \n",
              "...     ...       ...                 ...               ...   \n",
              "23519  2018      2113                   1                 0   \n",
              "23520  2018      2114                   1                 0   \n",
              "23521  2018      2115                   1                 0   \n",
              "23522  2018      2116                   1                 1   \n",
              "23523  2018      2117                   1                 0   \n",
              "\n",
              "       Cell Phone Access  household_size  Respondent Age  \\\n",
              "0                      0             3.0            24.0   \n",
              "1                      1             5.0            70.0   \n",
              "2                      0             5.0            26.0   \n",
              "3                      0             5.0            34.0   \n",
              "4                      1             8.0            26.0   \n",
              "...                  ...             ...             ...   \n",
              "23519                  0             4.0            48.0   \n",
              "23520                  0             2.0            27.0   \n",
              "23521                  0             5.0            27.0   \n",
              "23522                  0             7.0            30.0   \n",
              "23523                  0            10.0            20.0   \n",
              "\n",
              "       gender_of_respondent  The relationship with head  marital_status  \\\n",
              "0                         1                           2             1.0   \n",
              "1                         1                           1             3.0   \n",
              "2                         0                           5             4.0   \n",
              "3                         1                           1             1.0   \n",
              "4                         0                           3             4.0   \n",
              "...                     ...                         ...             ...   \n",
              "23519                     1                           1             2.0   \n",
              "23520                     1                           1             4.0   \n",
              "23521                     1                           4             3.0   \n",
              "23522                     1                           4             2.0   \n",
              "23523                     0                           3             4.0   \n",
              "\n",
              "       Level of Educuation  Type of Job  \n",
              "0                        1            2  \n",
              "1                        2            7  \n",
              "2                        3            2  \n",
              "3                        4            4  \n",
              "4                        4            5  \n",
              "...                    ...          ...  \n",
              "23519                    2            8  \n",
              "23520                    1            8  \n",
              "23521                    4            8  \n",
              "23522                    1            2  \n",
              "23523                    1            9  \n",
              "\n",
              "[23343 rows x 12 columns]"
            ],
            "text/html": [
              "\n",
              "  <div id=\"df-2d4ab690-247a-4799-bbec-b44f5e5e1f1d\">\n",
              "    <div class=\"colab-df-container\">\n",
              "      <div>\n",
              "<style scoped>\n",
              "    .dataframe tbody tr th:only-of-type {\n",
              "        vertical-align: middle;\n",
              "    }\n",
              "\n",
              "    .dataframe tbody tr th {\n",
              "        vertical-align: top;\n",
              "    }\n",
              "\n",
              "    .dataframe thead th {\n",
              "        text-align: right;\n",
              "    }\n",
              "</style>\n",
              "<table border=\"1\" class=\"dataframe\">\n",
              "  <thead>\n",
              "    <tr style=\"text-align: right;\">\n",
              "      <th></th>\n",
              "      <th>year</th>\n",
              "      <th>uniqueid</th>\n",
              "      <th>Has a Bank account</th>\n",
              "      <th>Type of Location</th>\n",
              "      <th>Cell Phone Access</th>\n",
              "      <th>household_size</th>\n",
              "      <th>Respondent Age</th>\n",
              "      <th>gender_of_respondent</th>\n",
              "      <th>The relationship with head</th>\n",
              "      <th>marital_status</th>\n",
              "      <th>Level of Educuation</th>\n",
              "      <th>Type of Job</th>\n",
              "    </tr>\n",
              "  </thead>\n",
              "  <tbody>\n",
              "    <tr>\n",
              "      <th>0</th>\n",
              "      <td>2018</td>\n",
              "      <td>1</td>\n",
              "      <td>0</td>\n",
              "      <td>0</td>\n",
              "      <td>0</td>\n",
              "      <td>3.0</td>\n",
              "      <td>24.0</td>\n",
              "      <td>1</td>\n",
              "      <td>2</td>\n",
              "      <td>1.0</td>\n",
              "      <td>1</td>\n",
              "      <td>2</td>\n",
              "    </tr>\n",
              "    <tr>\n",
              "      <th>1</th>\n",
              "      <td>2018</td>\n",
              "      <td>2</td>\n",
              "      <td>1</td>\n",
              "      <td>0</td>\n",
              "      <td>1</td>\n",
              "      <td>5.0</td>\n",
              "      <td>70.0</td>\n",
              "      <td>1</td>\n",
              "      <td>1</td>\n",
              "      <td>3.0</td>\n",
              "      <td>2</td>\n",
              "      <td>7</td>\n",
              "    </tr>\n",
              "    <tr>\n",
              "      <th>2</th>\n",
              "      <td>2018</td>\n",
              "      <td>3</td>\n",
              "      <td>0</td>\n",
              "      <td>1</td>\n",
              "      <td>0</td>\n",
              "      <td>5.0</td>\n",
              "      <td>26.0</td>\n",
              "      <td>0</td>\n",
              "      <td>5</td>\n",
              "      <td>4.0</td>\n",
              "      <td>3</td>\n",
              "      <td>2</td>\n",
              "    </tr>\n",
              "    <tr>\n",
              "      <th>3</th>\n",
              "      <td>2018</td>\n",
              "      <td>4</td>\n",
              "      <td>1</td>\n",
              "      <td>0</td>\n",
              "      <td>0</td>\n",
              "      <td>5.0</td>\n",
              "      <td>34.0</td>\n",
              "      <td>1</td>\n",
              "      <td>1</td>\n",
              "      <td>1.0</td>\n",
              "      <td>4</td>\n",
              "      <td>4</td>\n",
              "    </tr>\n",
              "    <tr>\n",
              "      <th>4</th>\n",
              "      <td>2018</td>\n",
              "      <td>5</td>\n",
              "      <td>1</td>\n",
              "      <td>1</td>\n",
              "      <td>1</td>\n",
              "      <td>8.0</td>\n",
              "      <td>26.0</td>\n",
              "      <td>0</td>\n",
              "      <td>3</td>\n",
              "      <td>4.0</td>\n",
              "      <td>4</td>\n",
              "      <td>5</td>\n",
              "    </tr>\n",
              "    <tr>\n",
              "      <th>...</th>\n",
              "      <td>...</td>\n",
              "      <td>...</td>\n",
              "      <td>...</td>\n",
              "      <td>...</td>\n",
              "      <td>...</td>\n",
              "      <td>...</td>\n",
              "      <td>...</td>\n",
              "      <td>...</td>\n",
              "      <td>...</td>\n",
              "      <td>...</td>\n",
              "      <td>...</td>\n",
              "      <td>...</td>\n",
              "    </tr>\n",
              "    <tr>\n",
              "      <th>23519</th>\n",
              "      <td>2018</td>\n",
              "      <td>2113</td>\n",
              "      <td>1</td>\n",
              "      <td>0</td>\n",
              "      <td>0</td>\n",
              "      <td>4.0</td>\n",
              "      <td>48.0</td>\n",
              "      <td>1</td>\n",
              "      <td>1</td>\n",
              "      <td>2.0</td>\n",
              "      <td>2</td>\n",
              "      <td>8</td>\n",
              "    </tr>\n",
              "    <tr>\n",
              "      <th>23520</th>\n",
              "      <td>2018</td>\n",
              "      <td>2114</td>\n",
              "      <td>1</td>\n",
              "      <td>0</td>\n",
              "      <td>0</td>\n",
              "      <td>2.0</td>\n",
              "      <td>27.0</td>\n",
              "      <td>1</td>\n",
              "      <td>1</td>\n",
              "      <td>4.0</td>\n",
              "      <td>1</td>\n",
              "      <td>8</td>\n",
              "    </tr>\n",
              "    <tr>\n",
              "      <th>23521</th>\n",
              "      <td>2018</td>\n",
              "      <td>2115</td>\n",
              "      <td>1</td>\n",
              "      <td>0</td>\n",
              "      <td>0</td>\n",
              "      <td>5.0</td>\n",
              "      <td>27.0</td>\n",
              "      <td>1</td>\n",
              "      <td>4</td>\n",
              "      <td>3.0</td>\n",
              "      <td>4</td>\n",
              "      <td>8</td>\n",
              "    </tr>\n",
              "    <tr>\n",
              "      <th>23522</th>\n",
              "      <td>2018</td>\n",
              "      <td>2116</td>\n",
              "      <td>1</td>\n",
              "      <td>1</td>\n",
              "      <td>0</td>\n",
              "      <td>7.0</td>\n",
              "      <td>30.0</td>\n",
              "      <td>1</td>\n",
              "      <td>4</td>\n",
              "      <td>2.0</td>\n",
              "      <td>1</td>\n",
              "      <td>2</td>\n",
              "    </tr>\n",
              "    <tr>\n",
              "      <th>23523</th>\n",
              "      <td>2018</td>\n",
              "      <td>2117</td>\n",
              "      <td>1</td>\n",
              "      <td>0</td>\n",
              "      <td>0</td>\n",
              "      <td>10.0</td>\n",
              "      <td>20.0</td>\n",
              "      <td>0</td>\n",
              "      <td>3</td>\n",
              "      <td>4.0</td>\n",
              "      <td>1</td>\n",
              "      <td>9</td>\n",
              "    </tr>\n",
              "  </tbody>\n",
              "</table>\n",
              "<p>23343 rows × 12 columns</p>\n",
              "</div>\n",
              "      <button class=\"colab-df-convert\" onclick=\"convertToInteractive('df-2d4ab690-247a-4799-bbec-b44f5e5e1f1d')\"\n",
              "              title=\"Convert this dataframe to an interactive table.\"\n",
              "              style=\"display:none;\">\n",
              "        \n",
              "  <svg xmlns=\"http://www.w3.org/2000/svg\" height=\"24px\"viewBox=\"0 0 24 24\"\n",
              "       width=\"24px\">\n",
              "    <path d=\"M0 0h24v24H0V0z\" fill=\"none\"/>\n",
              "    <path d=\"M18.56 5.44l.94 2.06.94-2.06 2.06-.94-2.06-.94-.94-2.06-.94 2.06-2.06.94zm-11 1L8.5 8.5l.94-2.06 2.06-.94-2.06-.94L8.5 2.5l-.94 2.06-2.06.94zm10 10l.94 2.06.94-2.06 2.06-.94-2.06-.94-.94-2.06-.94 2.06-2.06.94z\"/><path d=\"M17.41 7.96l-1.37-1.37c-.4-.4-.92-.59-1.43-.59-.52 0-1.04.2-1.43.59L10.3 9.45l-7.72 7.72c-.78.78-.78 2.05 0 2.83L4 21.41c.39.39.9.59 1.41.59.51 0 1.02-.2 1.41-.59l7.78-7.78 2.81-2.81c.8-.78.8-2.07 0-2.86zM5.41 20L4 18.59l7.72-7.72 1.47 1.35L5.41 20z\"/>\n",
              "  </svg>\n",
              "      </button>\n",
              "      \n",
              "  <style>\n",
              "    .colab-df-container {\n",
              "      display:flex;\n",
              "      flex-wrap:wrap;\n",
              "      gap: 12px;\n",
              "    }\n",
              "\n",
              "    .colab-df-convert {\n",
              "      background-color: #E8F0FE;\n",
              "      border: none;\n",
              "      border-radius: 50%;\n",
              "      cursor: pointer;\n",
              "      display: none;\n",
              "      fill: #1967D2;\n",
              "      height: 32px;\n",
              "      padding: 0 0 0 0;\n",
              "      width: 32px;\n",
              "    }\n",
              "\n",
              "    .colab-df-convert:hover {\n",
              "      background-color: #E2EBFA;\n",
              "      box-shadow: 0px 1px 2px rgba(60, 64, 67, 0.3), 0px 1px 3px 1px rgba(60, 64, 67, 0.15);\n",
              "      fill: #174EA6;\n",
              "    }\n",
              "\n",
              "    [theme=dark] .colab-df-convert {\n",
              "      background-color: #3B4455;\n",
              "      fill: #D2E3FC;\n",
              "    }\n",
              "\n",
              "    [theme=dark] .colab-df-convert:hover {\n",
              "      background-color: #434B5C;\n",
              "      box-shadow: 0px 1px 3px 1px rgba(0, 0, 0, 0.15);\n",
              "      filter: drop-shadow(0px 1px 2px rgba(0, 0, 0, 0.3));\n",
              "      fill: #FFFFFF;\n",
              "    }\n",
              "  </style>\n",
              "\n",
              "      <script>\n",
              "        const buttonEl =\n",
              "          document.querySelector('#df-2d4ab690-247a-4799-bbec-b44f5e5e1f1d button.colab-df-convert');\n",
              "        buttonEl.style.display =\n",
              "          google.colab.kernel.accessAllowed ? 'block' : 'none';\n",
              "\n",
              "        async function convertToInteractive(key) {\n",
              "          const element = document.querySelector('#df-2d4ab690-247a-4799-bbec-b44f5e5e1f1d');\n",
              "          const dataTable =\n",
              "            await google.colab.kernel.invokeFunction('convertToInteractive',\n",
              "                                                     [key], {});\n",
              "          if (!dataTable) return;\n",
              "\n",
              "          const docLinkHtml = 'Like what you see? Visit the ' +\n",
              "            '<a target=\"_blank\" href=https://colab.research.google.com/notebooks/data_table.ipynb>data table notebook</a>'\n",
              "            + ' to learn more about interactive tables.';\n",
              "          element.innerHTML = '';\n",
              "          dataTable['output_type'] = 'display_data';\n",
              "          await google.colab.output.renderOutput(dataTable, element);\n",
              "          const docLink = document.createElement('div');\n",
              "          docLink.innerHTML = docLinkHtml;\n",
              "          element.appendChild(docLink);\n",
              "        }\n",
              "      </script>\n",
              "    </div>\n",
              "  </div>\n",
              "  "
            ]
          },
          "metadata": {},
          "execution_count": 97
        }
      ]
    },
    {
      "cell_type": "code",
      "source": [
        "# apply the standard scaler to our dataset's features\n",
        "# Here, we shall split the dataset into the Training set and Test set\n",
        "\n",
        "X_train, X_test, y_train, y_test = train_test_split(X, y, test_size=0.2, random_state=0)"
      ],
      "metadata": {
        "id": "WUGly8W37DKS"
      },
      "execution_count": 98,
      "outputs": []
    },
    {
      "cell_type": "code",
      "source": [
        "# Next, we want to ensure that the machine learning algorithm treats each column with equal importance\n",
        "# We shall scale the features through standardisation using Python's ‘StandardScaler’ function \n",
        "# built into scikit-learn, so equal importance is placed on each column\n",
        "\n",
        "sc = StandardScaler()\n",
        "X_train = sc.fit_transform(X_train)\n",
        "X_test = sc.transform(X_test)\n",
        "\n"
      ],
      "metadata": {
        "id": "ysChXnPNV9G_"
      },
      "execution_count": 99,
      "outputs": []
    },
    {
      "cell_type": "code",
      "source": [
        "# Next, we import, initialise, and fit the PCA algorithm, built into scikit-learn, to the ‘X’ variable\n",
        "\n",
        "from sklearn.decomposition import PCA\n",
        "\n",
        "\n",
        "# Dealing with the NaN or infinite values\n",
        "X_train[np.isfinite(X_train) == False] = 0\n",
        "X_train[np.isnan(X_train) == True] = 0\n",
        "\n",
        "X_test[np.isfinite(X_test) == False] = 0\n",
        "X_test[np.isnan(X_test) == True] = 0\n",
        "\n",
        "np.any(np.isnan(X_train))\n",
        "np.all(np.isfinite(X_train))\n",
        "\n",
        "pca = PCA()\n",
        "X_train = pca.fit_transform(X_train)\n",
        "X_test = pca.transform(X_test)"
      ],
      "metadata": {
        "id": "LbkYKJTNTYdk"
      },
      "execution_count": 100,
      "outputs": []
    },
    {
      "cell_type": "code",
      "source": [
        "# We execute the following line of code to find the \"explained variance ratio\".\n",
        "\n",
        "explained_variance = pca.explained_variance_ratio_\n",
        "explained_variance"
      ],
      "metadata": {
        "colab": {
          "base_uri": "https://localhost:8080/"
        },
        "id": "kv533pM0VCSD",
        "outputId": "daa933f8-38ea-4ed3-c48a-515bf4b70f87"
      },
      "execution_count": 101,
      "outputs": [
        {
          "output_type": "execute_result",
          "data": {
            "text/plain": [
              "array([0.15043937, 0.13551071, 0.11666364, 0.10428881, 0.08476564,\n",
              "       0.07631011, 0.07265112, 0.06421483, 0.05843503, 0.05020555,\n",
              "       0.04843686, 0.03807832])"
            ]
          },
          "metadata": {},
          "execution_count": 101
        }
      ]
    },
    {
      "cell_type": "markdown",
      "source": [
        "We see that the first component explaines 15% of the variance and second component explains 13% of the variance."
      ],
      "metadata": {
        "id": "Xac0bAWILNiK"
      }
    },
    {
      "cell_type": "code",
      "source": [
        "# Next we'll try to use 1 principal component to train our algorithm.\n",
        "from sklearn.decomposition import PCA\n",
        "\n",
        "pca = PCA(n_components=1)\n",
        "X_train = pca.fit_transform(X_train)\n",
        "X_test = pca.transform(X_test)"
      ],
      "metadata": {
        "id": "rKxKM9oeORtI"
      },
      "execution_count": 102,
      "outputs": []
    }
  ]
}